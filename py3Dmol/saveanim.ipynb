{
 "cells": [
  {
   "cell_type": "code",
   "execution_count": 1,
   "id": "ca494fca",
   "metadata": {},
   "outputs": [],
   "source": [
    "import py3Dmol"
   ]
  },
  {
   "cell_type": "code",
   "execution_count": 2,
   "id": "fc0d8521",
   "metadata": {},
   "outputs": [
    {
     "data": {
      "application/3dmoljs_load.v0": "<div id=\"3dmolviewer_16428692833697963\"  style=\"position: relative; width: 640px; height: 480px\">\n        <p id=\"3dmolwarning_16428692833697963\" style=\"background-color:#ffcccc;color:black\">You appear to be running in JupyterLab (or JavaScript failed to load for some other reason).  You need to install the 3dmol extension: <br>\n        <tt>jupyter labextension install jupyterlab_3dmol</tt></p>\n        </div>\n<script>\n\nvar loadScriptAsync = function(uri){\n  return new Promise((resolve, reject) => {\n    var tag = document.createElement('script');\n    tag.src = uri;\n    tag.async = true;\n    tag.onload = () => {\n      resolve();\n    };\n  var firstScriptTag = document.getElementsByTagName('script')[0];\n  firstScriptTag.parentNode.insertBefore(tag, firstScriptTag);\n});\n};\n\nif(typeof $3Dmolpromise === 'undefined') {\n$3Dmolpromise = null;\n  $3Dmolpromise = loadScriptAsync('http://localhost/3Dmol/build/3Dmol.js');\n}\n\nvar viewer_16428692833697963 = null;\nvar warn = document.getElementById(\"3dmolwarning_16428692833697963\");\nif(warn) {\n    warn.parentNode.removeChild(warn);\n}\n$3Dmolpromise.then(function() {\nviewer_16428692833697963 = $3Dmol.createViewer($(\"#3dmolviewer_16428692833697963\"),{backgroundColor:\"white\"});\n$3Dmol.download(\"1ycr\", viewer_16428692833697963, {}, function() {\nviewer_16428692833697963.zoomTo();\n\tviewer_16428692833697963.setStyle(\"cartoon\");\n\tviewer_16428692833697963.zoomTo();\n\tviewer_16428692833697963.spin();\nviewer_16428692833697963.render();\n})\n});\n</script>",
      "text/html": [
       "<div id=\"3dmolviewer_16428692833697963\"  style=\"position: relative; width: 640px; height: 480px\">\n",
       "        <p id=\"3dmolwarning_16428692833697963\" style=\"background-color:#ffcccc;color:black\">You appear to be running in JupyterLab (or JavaScript failed to load for some other reason).  You need to install the 3dmol extension: <br>\n",
       "        <tt>jupyter labextension install jupyterlab_3dmol</tt></p>\n",
       "        </div>\n",
       "<script>\n",
       "\n",
       "var loadScriptAsync = function(uri){\n",
       "  return new Promise((resolve, reject) => {\n",
       "    var tag = document.createElement('script');\n",
       "    tag.src = uri;\n",
       "    tag.async = true;\n",
       "    tag.onload = () => {\n",
       "      resolve();\n",
       "    };\n",
       "  var firstScriptTag = document.getElementsByTagName('script')[0];\n",
       "  firstScriptTag.parentNode.insertBefore(tag, firstScriptTag);\n",
       "});\n",
       "};\n",
       "\n",
       "if(typeof $3Dmolpromise === 'undefined') {\n",
       "$3Dmolpromise = null;\n",
       "  $3Dmolpromise = loadScriptAsync('http://localhost/3Dmol/build/3Dmol.js');\n",
       "}\n",
       "\n",
       "var viewer_16428692833697963 = null;\n",
       "var warn = document.getElementById(\"3dmolwarning_16428692833697963\");\n",
       "if(warn) {\n",
       "    warn.parentNode.removeChild(warn);\n",
       "}\n",
       "$3Dmolpromise.then(function() {\n",
       "viewer_16428692833697963 = $3Dmol.createViewer($(\"#3dmolviewer_16428692833697963\"),{backgroundColor:\"white\"});\n",
       "$3Dmol.download(\"1ycr\", viewer_16428692833697963, {}, function() {\n",
       "viewer_16428692833697963.zoomTo();\n",
       "\tviewer_16428692833697963.setStyle(\"cartoon\");\n",
       "\tviewer_16428692833697963.zoomTo();\n",
       "\tviewer_16428692833697963.spin();\n",
       "viewer_16428692833697963.render();\n",
       "})\n",
       "});\n",
       "</script>"
      ]
     },
     "metadata": {},
     "output_type": "display_data"
    },
    {
     "data": {
      "text/plain": [
       "<py3Dmol.view at 0x7f0c456d5c40>"
      ]
     },
     "execution_count": 2,
     "metadata": {},
     "output_type": "execute_result"
    }
   ],
   "source": [
    "v = py3Dmol.view(query='1ycr',js='http://localhost/3Dmol/build/3Dmol.js')\n",
    "v.setStyle('cartoon')\n",
    "v.zoomTo()\n",
    "v.spin()"
   ]
  },
  {
   "cell_type": "code",
   "execution_count": 4,
   "id": "3b0c9674",
   "metadata": {},
   "outputs": [
    {
     "data": {
      "application/3dmoljs_load.v0": "<img id=\"img_16428692833697963\">\n            <script>\n            viewer_16428692833697963.apngURI(100).then(png => {\n            $('#img_16428692833697963').attr('src', png); });\n            </script>",
      "text/html": [
       "<img id=\"img_16428692833697963\">\n",
       "            <script>\n",
       "            viewer_16428692833697963.apngURI(100).then(png => {\n",
       "            $('#img_16428692833697963').attr('src', png); });\n",
       "            </script>"
      ]
     },
     "metadata": {},
     "output_type": "display_data"
    }
   ],
   "source": [
    "v.apng(100)"
   ]
  },
  {
   "cell_type": "code",
   "execution_count": null,
   "id": "97fb8690",
   "metadata": {},
   "outputs": [],
   "source": []
  }
 ],
 "metadata": {
  "kernelspec": {
   "display_name": "Python 3",
   "language": "python",
   "name": "python3"
  },
  "language_info": {
   "codemirror_mode": {
    "name": "ipython",
    "version": 3
   },
   "file_extension": ".py",
   "mimetype": "text/x-python",
   "name": "python",
   "nbconvert_exporter": "python",
   "pygments_lexer": "ipython3",
   "version": "3.8.10"
  }
 },
 "nbformat": 4,
 "nbformat_minor": 5
}
