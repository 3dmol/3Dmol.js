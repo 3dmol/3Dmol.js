{
 "cells": [
  {
   "cell_type": "code",
   "execution_count": null,
   "id": "ca494fca",
   "metadata": {},
   "outputs": [],
   "source": [
    "import py3Dmol"
   ]
  },
  {
   "cell_type": "code",
   "execution_count": null,
   "id": "fc0d8521",
   "metadata": {},
   "outputs": [],
   "source": [
    "v = py3Dmol.view(query='1ycr',js=\"http://localhost/3Dmol/build/3Dmol.js\")\n",
    "v.setStyle('cartoon')\n",
    "v.zoomTo()\n",
    "v.spin()"
   ]
  },
  {
   "cell_type": "code",
   "execution_count": null,
   "id": "3b0c9674",
   "metadata": {},
   "outputs": [],
   "source": [
    "v.apng(100)"
   ]
  },
  {
   "cell_type": "code",
   "execution_count": null,
   "id": "97fb8690",
   "metadata": {},
   "outputs": [],
   "source": []
  },
  {
   "cell_type": "code",
   "execution_count": null,
   "id": "72092e84",
   "metadata": {},
   "outputs": [],
   "source": []
  }
 ],
 "metadata": {
  "kernelspec": {
   "display_name": "Python 3 (ipykernel)",
   "language": "python",
   "name": "python3"
  },
  "language_info": {
   "codemirror_mode": {
    "name": "ipython",
    "version": 3
   },
   "file_extension": ".py",
   "mimetype": "text/x-python",
   "name": "python",
   "nbconvert_exporter": "python",
   "pygments_lexer": "ipython3",
   "version": "3.9.6"
  }
 },
 "nbformat": 4,
 "nbformat_minor": 5
}
