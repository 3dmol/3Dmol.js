{
 "cells": [
  {
   "cell_type": "markdown",
   "metadata": {},
   "source": [
    "py3Dmol\n",
    "=======\n",
    "\n",
    "A simple [IPython/Jupyter](http://jupyter.org/) widget to\n",
    "embed an interactive [3Dmol.js](http://3dmol.csb.pitt.edu) viewer in a notebook.\n",
    "\n",
    "The widget is completely static, which means the viewer doesn't need a running\n",
    "IPython kernel to be useful and web pages and presentations generated from\n",
    "the notebook will work as expected.  However, this also means there is only\n",
    "one-way communication between the notebook and the viewer.\n",
    "\n",
    "Installation\n",
    "------------\n",
    "\n",
    "From PyPI:\n",
    "\n",
    "    pip install py3Dmol\n",
    "    \n",
    "API\n",
    "---\n",
    "\n",
    "The returned view object has the exact same API as [3Dmol.GLViewer](http://3dmol.csb.pitt.edu/doc/$3Dmol.GLViewer.html)\n",
    "with the exception that functions return None.\n",
    "\n"
   ]
  },
  {
   "cell_type": "code",
   "execution_count": 1,
   "metadata": {},
   "outputs": [],
   "source": [
    "import py3Dmol"
   ]
  },
  {
   "cell_type": "code",
   "execution_count": 2,
   "metadata": {
    "scrolled": false
   },
   "outputs": [
    {
     "data": {
      "application/3dmoljs_load.v0": "<div id=\"3dmolviewer_152199448667\"  style=\"position: relative; width: 640px; height: 480px\">\n<script>\n\nvar loadScriptAsync = function(uri){\n  return new Promise((resolve, reject) => {\n    var tag = document.createElement('script');\n    tag.src = uri;\n    tag.async = true;\n    tag.onload = () => {\n      resolve();\n    };\n  var firstScriptTag = document.getElementsByTagName('script')[0];\n  firstScriptTag.parentNode.insertBefore(tag, firstScriptTag);\n});\n};\n\nif(typeof $3Dmolpromise === 'undefined') {\n$3Dmolpromise = null;\n  $3Dmolpromise = loadScriptAsync('https://3dmol.csb.pitt.edu/build/3Dmol.js');\n}\n\nvar viewer_152199448667 = null;\n$3Dmolpromise.then(function() {\nviewer_152199448667 = $3Dmol.createViewer($(\"#3dmolviewer_152199448667\"),{backgroundColor:\"white\"});\n$3Dmol.download(\"pdb:1ycr\", viewer_152199448667, {}, function() {\n\tviewer_152199448667.setStyle({\"cartoon\": {\"color\": \"spectrum\"}});\nviewer_152199448667.render();\n})\n});\n</script>",
      "text/html": [
       "<div id=\"3dmolviewer_152199448667\"  style=\"position: relative; width: 640px; height: 480px\">\n",
       "<script>\n",
       "\n",
       "var loadScriptAsync = function(uri){\n",
       "  return new Promise((resolve, reject) => {\n",
       "    var tag = document.createElement('script');\n",
       "    tag.src = uri;\n",
       "    tag.async = true;\n",
       "    tag.onload = () => {\n",
       "      resolve();\n",
       "    };\n",
       "  var firstScriptTag = document.getElementsByTagName('script')[0];\n",
       "  firstScriptTag.parentNode.insertBefore(tag, firstScriptTag);\n",
       "});\n",
       "};\n",
       "\n",
       "if(typeof $3Dmolpromise === 'undefined') {\n",
       "$3Dmolpromise = null;\n",
       "  $3Dmolpromise = loadScriptAsync('https://3dmol.csb.pitt.edu/build/3Dmol.js');\n",
       "}\n",
       "\n",
       "var viewer_152199448667 = null;\n",
       "$3Dmolpromise.then(function() {\n",
       "viewer_152199448667 = $3Dmol.createViewer($(\"#3dmolviewer_152199448667\"),{backgroundColor:\"white\"});\n",
       "$3Dmol.download(\"pdb:1ycr\", viewer_152199448667, {}, function() {\n",
       "\tviewer_152199448667.setStyle({\"cartoon\": {\"color\": \"spectrum\"}});\n",
       "viewer_152199448667.render();\n",
       "})\n",
       "});\n",
       "</script>"
      ]
     },
     "metadata": {},
     "output_type": "display_data"
    },
    {
     "data": {
      "text/plain": [
       "<py3Dmol.view at 0x107b0d550>"
      ]
     },
     "execution_count": 2,
     "metadata": {},
     "output_type": "execute_result"
    }
   ],
   "source": [
    "p = py3Dmol.view(query='pdb:1ycr')\n",
    "p.setStyle({'cartoon': {'color':'spectrum'}})\n"
   ]
  },
  {
   "cell_type": "code",
   "execution_count": 3,
   "metadata": {},
   "outputs": [],
   "source": [
    "xyz = '''4\n",
    "* (null), Energy   -1000.0000000\n",
    "N     0.000005    0.019779   -0.000003   -0.157114    0.000052   -0.012746\n",
    "H     0.931955   -0.364989    0.000003    1.507100   -0.601158   -0.004108\n",
    "H    -0.465975   -0.364992    0.807088    0.283368    0.257996   -0.583024\n",
    "H    -0.465979   -0.364991   -0.807088    0.392764    0.342436    0.764260\n",
    "'''"
   ]
  },
  {
   "cell_type": "code",
   "execution_count": 4,
   "metadata": {},
   "outputs": [
    {
     "data": {
      "application/3dmoljs_load.v0": "<div id=\"3dmolviewer_152199448812\"  style=\"position: relative; width: 400px; height: 400px\">\n<script>\n\nvar loadScriptAsync = function(uri){\n  return new Promise((resolve, reject) => {\n    var tag = document.createElement('script');\n    tag.src = uri;\n    tag.async = true;\n    tag.onload = () => {\n      resolve();\n    };\n  var firstScriptTag = document.getElementsByTagName('script')[0];\n  firstScriptTag.parentNode.insertBefore(tag, firstScriptTag);\n});\n};\n\nif(typeof $3Dmolpromise === 'undefined') {\n$3Dmolpromise = null;\n  $3Dmolpromise = loadScriptAsync('https://3dmol.csb.pitt.edu/build/3Dmol.js');\n}\n\nvar viewer_152199448812 = null;\n$3Dmolpromise.then(function() {\nviewer_152199448812 = $3Dmol.createViewer($(\"#3dmolviewer_152199448812\"),{backgroundColor:\"white\"});\n\tviewer_152199448812.addModel(\"4\\n* (null), Energy   -1000.0000000\\nN     0.000005    0.019779   -0.000003   -0.157114    0.000052   -0.012746\\nH     0.931955   -0.364989    0.000003    1.507100   -0.601158   -0.004108\\nH    -0.465975   -0.364992    0.807088    0.283368    0.257996   -0.583024\\nH    -0.465979   -0.364991   -0.807088    0.392764    0.342436    0.764260\\n\",\"xyz\",{\"vibrate\": {\"frames\": 10, \"amplitude\": 1}});\n\tviewer_152199448812.setStyle({\"stick\": {}});\n\tviewer_152199448812.setBackgroundColor(\"0xeeeeee\");\n\tviewer_152199448812.animate({\"loop\": \"backAndForth\"});\n\tviewer_152199448812.zoomTo();\nviewer_152199448812.render();\n});\n</script>",
      "text/html": [
       "<div id=\"3dmolviewer_152199448812\"  style=\"position: relative; width: 400px; height: 400px\">\n",
       "<script>\n",
       "\n",
       "var loadScriptAsync = function(uri){\n",
       "  return new Promise((resolve, reject) => {\n",
       "    var tag = document.createElement('script');\n",
       "    tag.src = uri;\n",
       "    tag.async = true;\n",
       "    tag.onload = () => {\n",
       "      resolve();\n",
       "    };\n",
       "  var firstScriptTag = document.getElementsByTagName('script')[0];\n",
       "  firstScriptTag.parentNode.insertBefore(tag, firstScriptTag);\n",
       "});\n",
       "};\n",
       "\n",
       "if(typeof $3Dmolpromise === 'undefined') {\n",
       "$3Dmolpromise = null;\n",
       "  $3Dmolpromise = loadScriptAsync('https://3dmol.csb.pitt.edu/build/3Dmol.js');\n",
       "}\n",
       "\n",
       "var viewer_152199448812 = null;\n",
       "$3Dmolpromise.then(function() {\n",
       "viewer_152199448812 = $3Dmol.createViewer($(\"#3dmolviewer_152199448812\"),{backgroundColor:\"white\"});\n",
       "\tviewer_152199448812.addModel(\"4\\n* (null), Energy   -1000.0000000\\nN     0.000005    0.019779   -0.000003   -0.157114    0.000052   -0.012746\\nH     0.931955   -0.364989    0.000003    1.507100   -0.601158   -0.004108\\nH    -0.465975   -0.364992    0.807088    0.283368    0.257996   -0.583024\\nH    -0.465979   -0.364991   -0.807088    0.392764    0.342436    0.764260\\n\",\"xyz\",{\"vibrate\": {\"frames\": 10, \"amplitude\": 1}});\n",
       "\tviewer_152199448812.setStyle({\"stick\": {}});\n",
       "\tviewer_152199448812.setBackgroundColor(\"0xeeeeee\");\n",
       "\tviewer_152199448812.animate({\"loop\": \"backAndForth\"});\n",
       "\tviewer_152199448812.zoomTo();\n",
       "viewer_152199448812.render();\n",
       "});\n",
       "</script>"
      ]
     },
     "metadata": {},
     "output_type": "display_data"
    }
   ],
   "source": [
    "xyzview = py3Dmol.view(width=400,height=400)\n",
    "xyzview.addModel(xyz,'xyz',{'vibrate': {'frames':10,'amplitude':1}})\n",
    "xyzview.setStyle({'stick':{}})\n",
    "xyzview.setBackgroundColor('0xeeeeee')\n",
    "xyzview.animate({'loop': 'backAndForth'})\n",
    "xyzview.zoomTo()\n",
    "xyzview.show()"
   ]
  },
  {
   "cell_type": "markdown",
   "metadata": {
    "collapsed": true
   },
   "source": [
    "Display local file."
   ]
  },
  {
   "cell_type": "code",
   "execution_count": 5,
   "metadata": {},
   "outputs": [
    {
     "data": {
      "application/3dmoljs_load.v0": "<div id=\"3dmolviewer_152199448956\"  style=\"position: relative; width: 640px; height: 480px\">\n<script>\n\nvar loadScriptAsync = function(uri){\n  return new Promise((resolve, reject) => {\n    var tag = document.createElement('script');\n    tag.src = uri;\n    tag.async = true;\n    tag.onload = () => {\n      resolve();\n    };\n  var firstScriptTag = document.getElementsByTagName('script')[0];\n  firstScriptTag.parentNode.insertBefore(tag, firstScriptTag);\n});\n};\n\nif(typeof $3Dmolpromise === 'undefined') {\n$3Dmolpromise = null;\n  $3Dmolpromise = loadScriptAsync('https://3dmol.csb.pitt.edu/build/3Dmol.js');\n}\n\nvar viewer_152199448956 = null;\n$3Dmolpromise.then(function() {\nviewer_152199448956 = $3Dmol.createViewer($(\"#3dmolviewer_152199448956\"),{backgroundColor:\"white\"});\n\tviewer_152199448956.addModel(\"\\n     RDKit          3D\\n\\n  6  6  0  0  0  0  0  0  0  0999 V2000\\n   -0.9517    0.7811   -0.6622 C   0  0  0  0  0  0  0  0  0  0  0  0\\n    0.2847    1.3329   -0.3121 C   0  0  0  0  0  0  0  0  0  0  0  0\\n    1.2365    0.5518    0.3512 C   0  0  0  0  0  0  0  0  0  0  0  0\\n    0.9517   -0.7811    0.6644 C   0  0  0  0  0  0  0  0  0  0  0  0\\n   -0.2847   -1.3329    0.3144 C   0  0  0  0  0  0  0  0  0  0  0  0\\n   -1.2365   -0.5518   -0.3489 C   0  0  0  0  0  0  0  0  0  0  0  0\\n  1  2  2  0\\n  2  3  1  0\\n  3  4  2  0\\n  4  5  1  0\\n  5  6  2  0\\n  6  1  1  0\\nM  END\\n$$$$\",\"sdf\");\n\tviewer_152199448956.setStyle({\"stick\": {}});\n\tviewer_152199448956.setStyle({\"model\": 0},{\"stick\": {\"colorscheme\": \"cyanCarbon\"}});\n\tviewer_152199448956.zoomTo();\nviewer_152199448956.render();\n});\n</script>",
      "text/html": [
       "<div id=\"3dmolviewer_152199448956\"  style=\"position: relative; width: 640px; height: 480px\">\n",
       "<script>\n",
       "\n",
       "var loadScriptAsync = function(uri){\n",
       "  return new Promise((resolve, reject) => {\n",
       "    var tag = document.createElement('script');\n",
       "    tag.src = uri;\n",
       "    tag.async = true;\n",
       "    tag.onload = () => {\n",
       "      resolve();\n",
       "    };\n",
       "  var firstScriptTag = document.getElementsByTagName('script')[0];\n",
       "  firstScriptTag.parentNode.insertBefore(tag, firstScriptTag);\n",
       "});\n",
       "};\n",
       "\n",
       "if(typeof $3Dmolpromise === 'undefined') {\n",
       "$3Dmolpromise = null;\n",
       "  $3Dmolpromise = loadScriptAsync('https://3dmol.csb.pitt.edu/build/3Dmol.js');\n",
       "}\n",
       "\n",
       "var viewer_152199448956 = null;\n",
       "$3Dmolpromise.then(function() {\n",
       "viewer_152199448956 = $3Dmol.createViewer($(\"#3dmolviewer_152199448956\"),{backgroundColor:\"white\"});\n",
       "\tviewer_152199448956.addModel(\"\\n     RDKit          3D\\n\\n  6  6  0  0  0  0  0  0  0  0999 V2000\\n   -0.9517    0.7811   -0.6622 C   0  0  0  0  0  0  0  0  0  0  0  0\\n    0.2847    1.3329   -0.3121 C   0  0  0  0  0  0  0  0  0  0  0  0\\n    1.2365    0.5518    0.3512 C   0  0  0  0  0  0  0  0  0  0  0  0\\n    0.9517   -0.7811    0.6644 C   0  0  0  0  0  0  0  0  0  0  0  0\\n   -0.2847   -1.3329    0.3144 C   0  0  0  0  0  0  0  0  0  0  0  0\\n   -1.2365   -0.5518   -0.3489 C   0  0  0  0  0  0  0  0  0  0  0  0\\n  1  2  2  0\\n  2  3  1  0\\n  3  4  2  0\\n  4  5  1  0\\n  5  6  2  0\\n  6  1  1  0\\nM  END\\n$$$$\",\"sdf\");\n",
       "\tviewer_152199448956.setStyle({\"stick\": {}});\n",
       "\tviewer_152199448956.setStyle({\"model\": 0},{\"stick\": {\"colorscheme\": \"cyanCarbon\"}});\n",
       "\tviewer_152199448956.zoomTo();\n",
       "viewer_152199448956.render();\n",
       "});\n",
       "</script>"
      ]
     },
     "metadata": {},
     "output_type": "display_data"
    },
    {
     "data": {
      "text/plain": [
       "<py3Dmol.view at 0x107b1e250>"
      ]
     },
     "execution_count": 5,
     "metadata": {},
     "output_type": "execute_result"
    }
   ],
   "source": [
    "benz='''\n",
    "     RDKit          3D\n",
    "\n",
    "  6  6  0  0  0  0  0  0  0  0999 V2000\n",
    "   -0.9517    0.7811   -0.6622 C   0  0  0  0  0  0  0  0  0  0  0  0\n",
    "    0.2847    1.3329   -0.3121 C   0  0  0  0  0  0  0  0  0  0  0  0\n",
    "    1.2365    0.5518    0.3512 C   0  0  0  0  0  0  0  0  0  0  0  0\n",
    "    0.9517   -0.7811    0.6644 C   0  0  0  0  0  0  0  0  0  0  0  0\n",
    "   -0.2847   -1.3329    0.3144 C   0  0  0  0  0  0  0  0  0  0  0  0\n",
    "   -1.2365   -0.5518   -0.3489 C   0  0  0  0  0  0  0  0  0  0  0  0\n",
    "  1  2  2  0\n",
    "  2  3  1  0\n",
    "  3  4  2  0\n",
    "  4  5  1  0\n",
    "  5  6  2  0\n",
    "  6  1  1  0\n",
    "M  END\n",
    "$$$$'''\n",
    "view = py3Dmol.view()\n",
    "view.addModel(benz,'sdf')\n",
    "view.setStyle({'stick':{}})\n",
    "view.setStyle({'model':0},{'stick':{'colorscheme':'cyanCarbon'}})\n",
    "view.zoomTo()"
   ]
  },
  {
   "cell_type": "markdown",
   "metadata": {},
   "source": [
    "You can create a single canvas object with multiple viewers arrayed in a grid (3Dmol.createViewerGrid)."
   ]
  },
  {
   "cell_type": "code",
   "execution_count": 6,
   "metadata": {},
   "outputs": [
    {
     "data": {
      "application/3dmoljs_load.v0": "<div id=\"3dmolviewer_15219944909\"  style=\"position: relative; width: 640px; height: 480px\">\n<script>\n\nvar loadScriptAsync = function(uri){\n  return new Promise((resolve, reject) => {\n    var tag = document.createElement('script');\n    tag.src = uri;\n    tag.async = true;\n    tag.onload = () => {\n      resolve();\n    };\n  var firstScriptTag = document.getElementsByTagName('script')[0];\n  firstScriptTag.parentNode.insertBefore(tag, firstScriptTag);\n});\n};\n\nif(typeof $3Dmolpromise === 'undefined') {\n$3Dmolpromise = null;\n  $3Dmolpromise = loadScriptAsync('https://3dmol.csb.pitt.edu/build/3Dmol.js');\n}\n\nvar viewer_15219944909 = null;\n$3Dmolpromise.then(function() {\nvar viewergrid_15219944909 = null;\nviewergrid_15219944909 = $3Dmol.createViewerGrid($(\"#3dmolviewer_15219944909\"),{rows: 2, cols: 2, control_all: false},{backgroundColor:\"white\"});\nviewer_15219944909 = viewergrid_15219944909[0][0];\n$3Dmol.download(\"pdb:1dc9\", viewergrid_15219944909[0][0], {}, function() {\n$3Dmol.download(\"pdb:1dc9\", viewergrid_15219944909[0][1], {}, function() {\n$3Dmol.download(\"pdb:1dc9\", viewergrid_15219944909[1][0], {}, function() {\n$3Dmol.download(\"pdb:1dc9\", viewergrid_15219944909[1][1], {}, function() {\n\tviewergrid_15219944909[0][0].setViewStyle({\"color\": \"black\", \"width\": 0.1, \"style\": \"outline\"});\n\tviewergrid_15219944909[0][1].setViewStyle({\"color\": \"black\", \"width\": 0.1, \"style\": \"outline\"});\n\tviewergrid_15219944909[1][0].setViewStyle({\"color\": \"black\", \"width\": 0.1, \"style\": \"outline\"});\n\tviewergrid_15219944909[1][1].setViewStyle({\"color\": \"black\", \"width\": 0.1, \"style\": \"outline\"});\n\tviewergrid_15219944909[0][1].setStyle({\"cartoon\": {\"color\": \"white\", \"tubes\": true, \"style\": \"oval\", \"arrows\": true}});\n\tviewergrid_15219944909[1][0].setStyle({\"stick\": {\"colorscheme\": \"greenCarbon\"}});\n\tviewergrid_15219944909[1][1].setStyle({\"cartoon\": {\"color\": \"spectrum\"}});\n\tviewergrid_15219944909[0][0].removeAllModels();\n\tviewergrid_15219944909[0][0].addModel(\"\\n     RDKit          3D\\n\\n  6  6  0  0  0  0  0  0  0  0999 V2000\\n   -0.9517    0.7811   -0.6622 C   0  0  0  0  0  0  0  0  0  0  0  0\\n    0.2847    1.3329   -0.3121 C   0  0  0  0  0  0  0  0  0  0  0  0\\n    1.2365    0.5518    0.3512 C   0  0  0  0  0  0  0  0  0  0  0  0\\n    0.9517   -0.7811    0.6644 C   0  0  0  0  0  0  0  0  0  0  0  0\\n   -0.2847   -1.3329    0.3144 C   0  0  0  0  0  0  0  0  0  0  0  0\\n   -1.2365   -0.5518   -0.3489 C   0  0  0  0  0  0  0  0  0  0  0  0\\n  1  2  2  0\\n  2  3  1  0\\n  3  4  2  0\\n  4  5  1  0\\n  5  6  2  0\\n  6  1  1  0\\nM  END\\n$$$$\",\"sdf\");\n\tviewergrid_15219944909[0][0].setStyle({\"stick\": {}});\n\tviewergrid_15219944909[0][0].zoomTo();\n\tviewergrid_15219944909[0][0].render();\n\tviewergrid_15219944909[0][1].render();\n\tviewergrid_15219944909[1][0].render();\n\tviewergrid_15219944909[1][1].render();\nviewergrid_15219944909[1][1].render();\nviewergrid_15219944909[1][0].render();\nviewergrid_15219944909[0][1].render();\nviewergrid_15219944909[0][0].render();\n})\n})\n})\n})\n});\n</script>",
      "text/html": [
       "<div id=\"3dmolviewer_15219944909\"  style=\"position: relative; width: 640px; height: 480px\">\n",
       "<script>\n",
       "\n",
       "var loadScriptAsync = function(uri){\n",
       "  return new Promise((resolve, reject) => {\n",
       "    var tag = document.createElement('script');\n",
       "    tag.src = uri;\n",
       "    tag.async = true;\n",
       "    tag.onload = () => {\n",
       "      resolve();\n",
       "    };\n",
       "  var firstScriptTag = document.getElementsByTagName('script')[0];\n",
       "  firstScriptTag.parentNode.insertBefore(tag, firstScriptTag);\n",
       "});\n",
       "};\n",
       "\n",
       "if(typeof $3Dmolpromise === 'undefined') {\n",
       "$3Dmolpromise = null;\n",
       "  $3Dmolpromise = loadScriptAsync('https://3dmol.csb.pitt.edu/build/3Dmol.js');\n",
       "}\n",
       "\n",
       "var viewer_15219944909 = null;\n",
       "$3Dmolpromise.then(function() {\n",
       "var viewergrid_15219944909 = null;\n",
       "viewergrid_15219944909 = $3Dmol.createViewerGrid($(\"#3dmolviewer_15219944909\"),{rows: 2, cols: 2, control_all: false},{backgroundColor:\"white\"});\n",
       "viewer_15219944909 = viewergrid_15219944909[0][0];\n",
       "$3Dmol.download(\"pdb:1dc9\", viewergrid_15219944909[0][0], {}, function() {\n",
       "$3Dmol.download(\"pdb:1dc9\", viewergrid_15219944909[0][1], {}, function() {\n",
       "$3Dmol.download(\"pdb:1dc9\", viewergrid_15219944909[1][0], {}, function() {\n",
       "$3Dmol.download(\"pdb:1dc9\", viewergrid_15219944909[1][1], {}, function() {\n",
       "\tviewergrid_15219944909[0][0].setViewStyle({\"color\": \"black\", \"width\": 0.1, \"style\": \"outline\"});\n",
       "\tviewergrid_15219944909[0][1].setViewStyle({\"color\": \"black\", \"width\": 0.1, \"style\": \"outline\"});\n",
       "\tviewergrid_15219944909[1][0].setViewStyle({\"color\": \"black\", \"width\": 0.1, \"style\": \"outline\"});\n",
       "\tviewergrid_15219944909[1][1].setViewStyle({\"color\": \"black\", \"width\": 0.1, \"style\": \"outline\"});\n",
       "\tviewergrid_15219944909[0][1].setStyle({\"cartoon\": {\"color\": \"white\", \"tubes\": true, \"style\": \"oval\", \"arrows\": true}});\n",
       "\tviewergrid_15219944909[1][0].setStyle({\"stick\": {\"colorscheme\": \"greenCarbon\"}});\n",
       "\tviewergrid_15219944909[1][1].setStyle({\"cartoon\": {\"color\": \"spectrum\"}});\n",
       "\tviewergrid_15219944909[0][0].removeAllModels();\n",
       "\tviewergrid_15219944909[0][0].addModel(\"\\n     RDKit          3D\\n\\n  6  6  0  0  0  0  0  0  0  0999 V2000\\n   -0.9517    0.7811   -0.6622 C   0  0  0  0  0  0  0  0  0  0  0  0\\n    0.2847    1.3329   -0.3121 C   0  0  0  0  0  0  0  0  0  0  0  0\\n    1.2365    0.5518    0.3512 C   0  0  0  0  0  0  0  0  0  0  0  0\\n    0.9517   -0.7811    0.6644 C   0  0  0  0  0  0  0  0  0  0  0  0\\n   -0.2847   -1.3329    0.3144 C   0  0  0  0  0  0  0  0  0  0  0  0\\n   -1.2365   -0.5518   -0.3489 C   0  0  0  0  0  0  0  0  0  0  0  0\\n  1  2  2  0\\n  2  3  1  0\\n  3  4  2  0\\n  4  5  1  0\\n  5  6  2  0\\n  6  1  1  0\\nM  END\\n$$$$\",\"sdf\");\n",
       "\tviewergrid_15219944909[0][0].setStyle({\"stick\": {}});\n",
       "\tviewergrid_15219944909[0][0].zoomTo();\n",
       "\tviewergrid_15219944909[0][0].render();\n",
       "\tviewergrid_15219944909[0][1].render();\n",
       "\tviewergrid_15219944909[1][0].render();\n",
       "\tviewergrid_15219944909[1][1].render();\n",
       "viewergrid_15219944909[1][1].render();\n",
       "viewergrid_15219944909[1][0].render();\n",
       "viewergrid_15219944909[0][1].render();\n",
       "viewergrid_15219944909[0][0].render();\n",
       "})\n",
       "})\n",
       "})\n",
       "})\n",
       "});\n",
       "</script>"
      ]
     },
     "metadata": {},
     "output_type": "display_data"
    },
    {
     "data": {
      "text/plain": [
       "<py3Dmol.view at 0x107b2c590>"
      ]
     },
     "execution_count": 6,
     "metadata": {},
     "output_type": "execute_result"
    }
   ],
   "source": [
    "view = py3Dmol.view(query='pdb:1dc9',linked=False,viewergrid=(2,2))\n",
    "view.setViewStyle({'style':'outline','color':'black','width':0.1})\n",
    "view.setStyle({'cartoon':{'arrows':True, 'tubes':True, 'style':'oval', 'color':'white'}},viewer=(0,1))\n",
    "view.setStyle({'stick':{'colorscheme':'greenCarbon'}},viewer=(1,0))\n",
    "view.setStyle({'cartoon':{'color':'spectrum'}},viewer=(1,1))\n",
    "view.removeAllModels(viewer=(0,0))\n",
    "view.addModel(benz,'sdf',viewer=(0,0))\n",
    "view.setStyle({'stick':{}},viewer=(0,0))\n",
    "view.zoomTo(viewer=(0,0))\n",
    "view.render()"
   ]
  },
  {
   "cell_type": "code",
   "execution_count": 7,
   "metadata": {},
   "outputs": [
    {
     "data": {
      "application/3dmoljs_load.v0": "<div id=\"3dmolviewer_152199449625\"  style=\"position: relative; width: 640px; height: 480px\">\n<script>\n\nvar loadScriptAsync = function(uri){\n  return new Promise((resolve, reject) => {\n    var tag = document.createElement('script');\n    tag.src = uri;\n    tag.async = true;\n    tag.onload = () => {\n      resolve();\n    };\n  var firstScriptTag = document.getElementsByTagName('script')[0];\n  firstScriptTag.parentNode.insertBefore(tag, firstScriptTag);\n});\n};\n\nif(typeof $3Dmolpromise === 'undefined') {\n$3Dmolpromise = null;\n  $3Dmolpromise = loadScriptAsync('https://3dmol.csb.pitt.edu/build/3Dmol.js');\n}\n\nvar viewer_152199449625 = null;\n$3Dmolpromise.then(function() {\nviewer_152199449625 = $3Dmol.createViewer($(\"#3dmolviewer_152199449625\"),{backgroundColor:\"white\"});\n$3Dmol.download(\"pdb:1ycr\", viewer_152199449625, {}, function() {\n\tviewer_152199449625.setStyle({\"chain\": \"A\"},{\"cartoon\": {\"color\": \"spectrum\"}});\n\tviewer_152199449625.addSurface(1,{\"opacity\": 0.7, \"color\": \"white\"},{\"chain\": \"A\"});\n\tviewer_152199449625.setStyle({\"chain\": \"B\"},{\"stick\": {}});\nviewer_152199449625.render();\n})\n});\n</script>",
      "text/html": [
       "<div id=\"3dmolviewer_152199449625\"  style=\"position: relative; width: 640px; height: 480px\">\n",
       "<script>\n",
       "\n",
       "var loadScriptAsync = function(uri){\n",
       "  return new Promise((resolve, reject) => {\n",
       "    var tag = document.createElement('script');\n",
       "    tag.src = uri;\n",
       "    tag.async = true;\n",
       "    tag.onload = () => {\n",
       "      resolve();\n",
       "    };\n",
       "  var firstScriptTag = document.getElementsByTagName('script')[0];\n",
       "  firstScriptTag.parentNode.insertBefore(tag, firstScriptTag);\n",
       "});\n",
       "};\n",
       "\n",
       "if(typeof $3Dmolpromise === 'undefined') {\n",
       "$3Dmolpromise = null;\n",
       "  $3Dmolpromise = loadScriptAsync('https://3dmol.csb.pitt.edu/build/3Dmol.js');\n",
       "}\n",
       "\n",
       "var viewer_152199449625 = null;\n",
       "$3Dmolpromise.then(function() {\n",
       "viewer_152199449625 = $3Dmol.createViewer($(\"#3dmolviewer_152199449625\"),{backgroundColor:\"white\"});\n",
       "$3Dmol.download(\"pdb:1ycr\", viewer_152199449625, {}, function() {\n",
       "\tviewer_152199449625.setStyle({\"chain\": \"A\"},{\"cartoon\": {\"color\": \"spectrum\"}});\n",
       "\tviewer_152199449625.addSurface(1,{\"opacity\": 0.7, \"color\": \"white\"},{\"chain\": \"A\"});\n",
       "\tviewer_152199449625.setStyle({\"chain\": \"B\"},{\"stick\": {}});\n",
       "viewer_152199449625.render();\n",
       "})\n",
       "});\n",
       "</script>"
      ]
     },
     "metadata": {},
     "output_type": "display_data"
    }
   ],
   "source": [
    "view = py3Dmol.view(query='pdb:1ycr')\n",
    "chA = {'chain':'A'}\n",
    "chB = {'chain':'B'}\n",
    "view.setStyle(chA,{'cartoon': {'color':'spectrum'}})\n",
    "view.addSurface(py3Dmol.VDW,{'opacity':0.7,'color':'white'}, chA)\n",
    "view.setStyle(chB,{'stick':{}})\n",
    "view.show()"
   ]
  },
  {
   "cell_type": "code",
   "execution_count": 8,
   "metadata": {},
   "outputs": [
    {
     "data": {
      "application/3dmoljs_load.v0": "<div id=\"3dmolviewer_15219944969\"  style=\"position: relative; width: 640px; height: 480px\">\n<script>\n\nvar loadScriptAsync = function(uri){\n  return new Promise((resolve, reject) => {\n    var tag = document.createElement('script');\n    tag.src = uri;\n    tag.async = true;\n    tag.onload = () => {\n      resolve();\n    };\n  var firstScriptTag = document.getElementsByTagName('script')[0];\n  firstScriptTag.parentNode.insertBefore(tag, firstScriptTag);\n});\n};\n\nif(typeof $3Dmolpromise === 'undefined') {\n$3Dmolpromise = null;\n  $3Dmolpromise = loadScriptAsync('https://3dmol.csb.pitt.edu/build/3Dmol.js');\n}\n\nvar viewer_15219944969 = null;\n$3Dmolpromise.then(function() {\nviewer_15219944969 = $3Dmol.createViewer($(\"#3dmolviewer_15219944969\"),{backgroundColor:\"white\"});\n$3Dmol.download(\"pdb:5ire\", viewer_15219944969, {\"doAssembly\": true}, function() {\n\tviewer_15219944969.setStyle({\"cartoon\": {\"color\": \"spectrum\"}});\nviewer_15219944969.render();\n})\n});\n</script>",
      "text/html": [
       "<div id=\"3dmolviewer_15219944969\"  style=\"position: relative; width: 640px; height: 480px\">\n",
       "<script>\n",
       "\n",
       "var loadScriptAsync = function(uri){\n",
       "  return new Promise((resolve, reject) => {\n",
       "    var tag = document.createElement('script');\n",
       "    tag.src = uri;\n",
       "    tag.async = true;\n",
       "    tag.onload = () => {\n",
       "      resolve();\n",
       "    };\n",
       "  var firstScriptTag = document.getElementsByTagName('script')[0];\n",
       "  firstScriptTag.parentNode.insertBefore(tag, firstScriptTag);\n",
       "});\n",
       "};\n",
       "\n",
       "if(typeof $3Dmolpromise === 'undefined') {\n",
       "$3Dmolpromise = null;\n",
       "  $3Dmolpromise = loadScriptAsync('https://3dmol.csb.pitt.edu/build/3Dmol.js');\n",
       "}\n",
       "\n",
       "var viewer_15219944969 = null;\n",
       "$3Dmolpromise.then(function() {\n",
       "viewer_15219944969 = $3Dmol.createViewer($(\"#3dmolviewer_15219944969\"),{backgroundColor:\"white\"});\n",
       "$3Dmol.download(\"pdb:5ire\", viewer_15219944969, {\"doAssembly\": true}, function() {\n",
       "\tviewer_15219944969.setStyle({\"cartoon\": {\"color\": \"spectrum\"}});\n",
       "viewer_15219944969.render();\n",
       "})\n",
       "});\n",
       "</script>"
      ]
     },
     "metadata": {},
     "output_type": "display_data"
    }
   ],
   "source": [
    "view = py3Dmol.view(query='pdb:5ire',options={'doAssembly':True})\n",
    "view.setStyle({'cartoon':{'color':'spectrum'}})\n",
    "view.show()"
   ]
  },
  {
   "cell_type": "markdown",
   "metadata": {},
   "source": [
    "Color by temperature factors"
   ]
  },
  {
   "cell_type": "code",
   "execution_count": 9,
   "metadata": {},
   "outputs": [
    {
     "data": {
      "application/3dmoljs_load.v0": "<div id=\"3dmolviewer_152199449842\"  style=\"position: relative; width: 640px; height: 480px\">\n<script>\n\nvar loadScriptAsync = function(uri){\n  return new Promise((resolve, reject) => {\n    var tag = document.createElement('script');\n    tag.src = uri;\n    tag.async = true;\n    tag.onload = () => {\n      resolve();\n    };\n  var firstScriptTag = document.getElementsByTagName('script')[0];\n  firstScriptTag.parentNode.insertBefore(tag, firstScriptTag);\n});\n};\n\nif(typeof $3Dmolpromise === 'undefined') {\n$3Dmolpromise = null;\n  $3Dmolpromise = loadScriptAsync('https://3dmol.csb.pitt.edu/build/3Dmol.js');\n}\n\nvar viewer_152199449842 = null;\n$3Dmolpromise.then(function() {\nviewer_152199449842 = $3Dmol.createViewer($(\"#3dmolviewer_152199449842\"),{backgroundColor:\"white\"});\n$3Dmol.download(\"pdb:1ycr\", viewer_152199449842, {}, function() {\n\tviewer_152199449842.setStyle({\"cartoon\": {\"color\": \"white\"}});\n\tviewer_152199449842.addSurface(1,{\"opacity\": 0.7, \"colorscheme\": {\"gradient\": \"sinebow\", \"max\": 70, \"min\": 0, \"prop\": \"b\"}});\nviewer_152199449842.render();\n})\n});\n</script>",
      "text/html": [
       "<div id=\"3dmolviewer_152199449842\"  style=\"position: relative; width: 640px; height: 480px\">\n",
       "<script>\n",
       "\n",
       "var loadScriptAsync = function(uri){\n",
       "  return new Promise((resolve, reject) => {\n",
       "    var tag = document.createElement('script');\n",
       "    tag.src = uri;\n",
       "    tag.async = true;\n",
       "    tag.onload = () => {\n",
       "      resolve();\n",
       "    };\n",
       "  var firstScriptTag = document.getElementsByTagName('script')[0];\n",
       "  firstScriptTag.parentNode.insertBefore(tag, firstScriptTag);\n",
       "});\n",
       "};\n",
       "\n",
       "if(typeof $3Dmolpromise === 'undefined') {\n",
       "$3Dmolpromise = null;\n",
       "  $3Dmolpromise = loadScriptAsync('https://3dmol.csb.pitt.edu/build/3Dmol.js');\n",
       "}\n",
       "\n",
       "var viewer_152199449842 = null;\n",
       "$3Dmolpromise.then(function() {\n",
       "viewer_152199449842 = $3Dmol.createViewer($(\"#3dmolviewer_152199449842\"),{backgroundColor:\"white\"});\n",
       "$3Dmol.download(\"pdb:1ycr\", viewer_152199449842, {}, function() {\n",
       "\tviewer_152199449842.setStyle({\"cartoon\": {\"color\": \"white\"}});\n",
       "\tviewer_152199449842.addSurface(1,{\"opacity\": 0.7, \"colorscheme\": {\"gradient\": \"sinebow\", \"max\": 70, \"min\": 0, \"prop\": \"b\"}});\n",
       "viewer_152199449842.render();\n",
       "})\n",
       "});\n",
       "</script>"
      ]
     },
     "metadata": {},
     "output_type": "display_data"
    },
    {
     "data": {
      "text/plain": [
       "<py3Dmol.view at 0x107b1efd0>"
      ]
     },
     "execution_count": 9,
     "metadata": {},
     "output_type": "execute_result"
    }
   ],
   "source": [
    "view = py3Dmol.view(query='pdb:1ycr')\n",
    "view.setStyle({'cartoon': {'color':'white'}})\n",
    "view.addSurface(py3Dmol.VDW,{'opacity':0.7,'colorscheme':{'prop':'b','gradient':'sinebow','min':0,'max':70}})"
   ]
  },
  {
   "cell_type": "markdown",
   "metadata": {},
   "source": [
    "Generate an inline image of what is currently in the viewer (all white if the structure hasn't loaded yet)."
   ]
  },
  {
   "cell_type": "code",
   "execution_count": 10,
   "metadata": {},
   "outputs": [
    {
     "data": {
      "application/3dmoljs_load.v0": "<img id=\"img_152199449842\">\n            <script>\n            var png = $('canvas','#3dmolviewer_152199449842')[0].toDataURL();\n            $('#img_152199449842').attr('src', png)\n            </script>",
      "text/html": [
       "<img id=\"img_152199449842\">\n",
       "            <script>\n",
       "            var png = $('canvas','#3dmolviewer_152199449842')[0].toDataURL();\n",
       "            $('#img_152199449842').attr('src', png)\n",
       "            </script>"
      ]
     },
     "metadata": {},
     "output_type": "display_data"
    }
   ],
   "source": [
    "png = view.png()\n",
    "png"
   ]
  },
  {
   "cell_type": "code",
   "execution_count": null,
   "metadata": {
    "collapsed": true
   },
   "outputs": [],
   "source": []
  },
  {
   "cell_type": "code",
   "execution_count": null,
   "metadata": {
    "collapsed": true
   },
   "outputs": [],
   "source": []
  },
  {
   "cell_type": "code",
   "execution_count": null,
   "metadata": {
    "collapsed": true
   },
   "outputs": [],
   "source": []
  }
 ],
 "metadata": {
  "kernelspec": {
   "display_name": "Python 2",
   "language": "python",
   "name": "python2"
  },
  "language_info": {
   "codemirror_mode": {
    "name": "ipython",
    "version": 2
   },
   "file_extension": ".py",
   "mimetype": "text/x-python",
   "name": "python",
   "nbconvert_exporter": "python",
   "pygments_lexer": "ipython2",
   "version": "2.7.14"
  },
  "widgets": {
   "state": {},
   "version": "1.1.1"
  }
 },
 "nbformat": 4,
 "nbformat_minor": 1
}
