{
 "cells": [
  {
   "cell_type": "code",
   "execution_count": 1,
   "metadata": {
    "collapsed": false
   },
   "outputs": [],
   "source": [
    "import py3Dmol"
   ]
  },
  {
   "cell_type": "code",
   "execution_count": 2,
   "metadata": {
    "collapsed": false,
    "scrolled": false
   },
   "outputs": [
    {
     "data": {
      "text/html": [
       "<div id=\"3dmolviewer_14628239109\"  style=\"position: relative; width: 640px; height: 480px\">\n",
       "<script>\n",
       "requirejs.config({\n",
       "\tpaths: {\n",
       "\t'$3Dmol': ['//3dmol.csb.pitt.edu/build/3Dmol-min'],},\n",
       "});\n",
       "require(['$3Dmol'], function($3Dmol) {\n",
       "var viewer = $3Dmol.createViewer($(\"#3dmolviewer_14628239109\"),{backgroundColor:\"white\"});\n",
       "$3Dmol.download(\"pdb:1ycr\", viewer, {}, function() {\n",
       "\tviewer.setStyle({\"cartoon\": {\"color\": \"spectrum\"}});\n",
       "viewer.render();\n",
       "})\n",
       "return {};});\n",
       "</script>"
      ],
      "text/plain": [
       "<IPython.core.display.HTML object>"
      ]
     },
     "execution_count": 2,
     "metadata": {},
     "output_type": "execute_result"
    }
   ],
   "source": [
    "p = py3Dmol.view(query='pdb:1ycr')\n",
    "p.setStyle({'cartoon': {'color':'spectrum'}})\n",
    "p.show()"
   ]
  },
  {
   "cell_type": "code",
   "execution_count": 3,
   "metadata": {
    "collapsed": false
   },
   "outputs": [],
   "source": [
    "xyz = '''4\n",
    "* (null), Energy   -1000.0000000\n",
    "N     0.000005    0.019779   -0.000003   -0.157114    0.000052   -0.012746\n",
    "H     0.931955   -0.364989    0.000003    1.507100   -0.601158   -0.004108\n",
    "H    -0.465975   -0.364992    0.807088    0.283368    0.257996   -0.583024\n",
    "H    -0.465979   -0.364991   -0.807088    0.392764    0.342436    0.764260\n",
    "'''"
   ]
  },
  {
   "cell_type": "code",
   "execution_count": 5,
   "metadata": {
    "collapsed": false
   },
   "outputs": [
    {
     "data": {
      "text/html": [
       "<div id=\"3dmolviewer_146282392081\"  style=\"position: relative; width: 400px; height: 400px\">\n",
       "<script>\n",
       "requirejs.config({\n",
       "\tpaths: {\n",
       "\t'$3Dmol': ['//3dmol.csb.pitt.edu/build/3Dmol-min'],},\n",
       "});\n",
       "require(['$3Dmol'], function(mol) {\n",
       "var viewer = $3Dmol.createViewer($(\"#3dmolviewer_146282392081\"),{backgroundColor:\"white\"});\n",
       "\tviewer.addModel(\"4\\n* (null), Energy   -1000.0000000\\nN     0.000005    0.019779   -0.000003   -0.157114    0.000052   -0.012746\\nH     0.931955   -0.364989    0.000003    1.507100   -0.601158   -0.004108\\nH    -0.465975   -0.364992    0.807088    0.283368    0.257996   -0.583024\\nH    -0.465979   -0.364991   -0.807088    0.392764    0.342436    0.764260\\n\",\"xyz\",{\"vibrate\": {\"frames\": 10, \"amplitude\": 1}});\n",
       "\tviewer.setStyle({\"stick\": {}});\n",
       "\tviewer.setBackgroundColor(\"0xeeeeee\");\n",
       "\tviewer.animate({\"loop\": \"backAndForth\"});\n",
       "\tviewer.zoomTo();\n",
       "viewer.render();\n",
       "return {};});\n",
       "</script>"
      ],
      "text/plain": [
       "<IPython.core.display.HTML object>"
      ]
     },
     "execution_count": 5,
     "metadata": {},
     "output_type": "execute_result"
    }
   ],
   "source": [
    "xyzview = py3Dmol.view(width=400,height=400)\n",
    "xyzview.addModel(xyz,'xyz',{'vibrate': {'frames':10,'amplitude':1}})\n",
    "xyzview.setStyle({'stick':{}})\n",
    "xyzview.setBackgroundColor('0xeeeeee')\n",
    "xyzview.animate({'loop': 'backAndForth'})\n",
    "xyzview.zoomTo()\n",
    "xyzview.show()"
   ]
  },
  {
   "cell_type": "code",
   "execution_count": 6,
   "metadata": {
    "collapsed": false
   },
   "outputs": [
    {
     "data": {
      "text/html": [
       "<div id=\"3dmolviewer_146282392129\"  style=\"position: relative; width: 640px; height: 480px\">\n",
       "<script>\n",
       "requirejs.config({\n",
       "\tpaths: {\n",
       "\t'$3Dmol': ['//3dmol.csb.pitt.edu/build/3Dmol-min'],},\n",
       "});\n",
       "require(['$3Dmol'], function(mol) {\n",
       "var viewer = $3Dmol.createViewer($(\"#3dmolviewer_146282392129\"),{backgroundColor:\"white\"});\n",
       "$3Dmol.download(\"pdb:1dc9\", viewer, {}, function() {\n",
       "\tviewer.setViewStyle({\"color\": \"black\", \"width\": 0.1, \"style\": \"outline\"});\n",
       "\tviewer.setStyle({\"cartoon\": {\"color\": \"white\", \"tubes\": true, \"style\": \"oval\", \"arrows\": true}});\n",
       "viewer.render();\n",
       "})\n",
       "return {};});\n",
       "</script>"
      ],
      "text/plain": [
       "<py3Dmol.view at 0x7f48b434b250>"
      ]
     },
     "execution_count": 6,
     "metadata": {},
     "output_type": "execute_result"
    }
   ],
   "source": [
    "view = py3Dmol.view(query='pdb:1dc9')\n",
    "view.setViewStyle({'style':'outline','color':'black','width':0.1})\n",
    "view.setStyle({'cartoon':{'arrows':True, 'tubes':True, 'style':'oval', 'color':'white'}})\n",
    "view"
   ]
  },
  {
   "cell_type": "code",
   "execution_count": 7,
   "metadata": {
    "collapsed": false
   },
   "outputs": [
    {
     "data": {
      "text/html": [
       "<div id=\"3dmolviewer_146282392226\"  style=\"position: relative; width: 640px; height: 480px\">\n",
       "<script>\n",
       "requirejs.config({\n",
       "\tpaths: {\n",
       "\t'$3Dmol': ['//3dmol.csb.pitt.edu/build/3Dmol-min'],},\n",
       "});\n",
       "require(['$3Dmol'], function(mol) {\n",
       "var viewer = $3Dmol.createViewer($(\"#3dmolviewer_146282392226\"),{backgroundColor:\"white\"});\n",
       "$3Dmol.download(\"pdb:1ycr\", viewer, {}, function() {\n",
       "\tviewer.setStyle({\"chain\": \"A\"},{\"cartoon\": {\"color\": \"spectrum\"}});\n",
       "\tviewer.addSurface(1,{\"opacity\": 0.7, \"color\": \"white\"},{\"chain\": \"A\"});\n",
       "\tviewer.setStyle({\"chain\": \"B\"},{\"stick\": {}});\n",
       "viewer.render();\n",
       "})\n",
       "return {};});\n",
       "</script>"
      ],
      "text/plain": [
       "<IPython.core.display.HTML object>"
      ]
     },
     "execution_count": 7,
     "metadata": {},
     "output_type": "execute_result"
    }
   ],
   "source": [
    "view = py3Dmol.view(query='pdb:1ycr')\n",
    "chA = {'chain':'A'}\n",
    "chB = {'chain':'B'}\n",
    "view.setStyle(chA,{'cartoon': {'color':'spectrum'}})\n",
    "view.addSurface(py3Dmol.VDW,{'opacity':0.7,'color':'white'}, chA)\n",
    "view.setStyle(chB,{'stick':{}})\n",
    "view.show()"
   ]
  },
  {
   "cell_type": "code",
   "execution_count": 8,
   "metadata": {
    "collapsed": false
   },
   "outputs": [
    {
     "data": {
      "text/html": [
       "<div id=\"3dmolviewer_146282392339\"  style=\"position: relative; width: 640px; height: 480px\">\n",
       "<script>\n",
       "requirejs.config({\n",
       "\tpaths: {\n",
       "\t'$3Dmol': ['//3dmol.csb.pitt.edu/build/3Dmol-min'],},\n",
       "});\n",
       "require(['$3Dmol'], function(mol) {\n",
       "var viewer = $3Dmol.createViewer($(\"#3dmolviewer_146282392339\"),{backgroundColor:\"white\"});\n",
       "$3Dmol.download(\"pdb:5ire\", viewer, {\"doAssembly\": true}, function() {\n",
       "\tviewer.setStyle({\"cartoon\": {\"color\": \"spectrum\"}});\n",
       "viewer.render();\n",
       "})\n",
       "return {};});\n",
       "</script>"
      ],
      "text/plain": [
       "<py3Dmol.view at 0x7f48b43a5510>"
      ]
     },
     "execution_count": 8,
     "metadata": {},
     "output_type": "execute_result"
    }
   ],
   "source": [
    "view = py3Dmol.view(query='pdb:5ire',options={'doAssembly':True})\n",
    "view.setStyle({'cartoon':{'color':'spectrum'}})\n",
    "view"
   ]
  },
  {
   "cell_type": "code",
   "execution_count": null,
   "metadata": {
    "collapsed": false
   },
   "outputs": [],
   "source": []
  }
 ],
 "metadata": {
  "kernelspec": {
   "display_name": "Python 2",
   "language": "python",
   "name": "python2"
  },
  "language_info": {
   "codemirror_mode": {
    "name": "ipython",
    "version": 2
   },
   "file_extension": ".py",
   "mimetype": "text/x-python",
   "name": "python",
   "nbconvert_exporter": "python",
   "pygments_lexer": "ipython2",
   "version": "2.7.6"
  },
  "widgets": {
   "state": {},
   "version": "1.1.1"
  }
 },
 "nbformat": 4,
 "nbformat_minor": 0
}
