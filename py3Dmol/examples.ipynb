{
 "cells": [
  {
   "cell_type": "markdown",
   "metadata": {},
   "source": [
    "py3Dmol\n",
    "=======\n",
    "\n",
    "A simple [IPython/Jupyter](http://jupyter.org/) widget to\n",
    "embed an interactive [3Dmol.js](http://3dmol.csb.pitt.edu) viewer in a notebook.\n",
    "\n",
    "The widget is completely static, which means the viewer doesn't need a running\n",
    "IPython kernel to be useful and web pages and presentations generated from\n",
    "the notebook will work as expected.  However, this also means there is only\n",
    "one-way communication between the notebook and the viewer.\n",
    "\n",
    "Installation\n",
    "------------\n",
    "\n",
    "From PyPI:\n",
    "\n",
    "    pip install py3Dmol\n",
    "    \n",
    "API\n",
    "---\n",
    "\n",
    "The returned view object has the exact same API as [3Dmol.GLViewer](http://3dmol.csb.pitt.edu/doc/$3Dmol.GLViewer.html)\n",
    "with the exception that functions return None.\n",
    "\n"
   ]
  },
  {
   "cell_type": "code",
   "execution_count": 1,
   "metadata": {},
   "outputs": [],
   "source": [
    "import py3Dmol"
   ]
  },
  {
   "cell_type": "code",
   "execution_count": 13,
   "metadata": {
    "scrolled": false
   },
   "outputs": [
    {
     "data": {
      "application/3dmoljs_load.v0": "<div id=\"3dmolviewer_16013459841652606\"  style=\"position: relative; width: 640px; height: 480px\">\n        <p id=\"3dmolwarning_16013459841652606\" style=\"background-color:#ffcccc;color:black\">You appear to be running in JupyterLab (or JavaScript failed to load for some other reason).  You need to install the 3dmol extension: <br>\n        <tt>jupyter labextension install jupyterlab_3dmol</tt></p>\n        </div>\n<script>\n\nvar loadScriptAsync = function(uri){\n  return new Promise((resolve, reject) => {\n    var tag = document.createElement('script');\n    tag.src = uri;\n    tag.async = true;\n    tag.onload = () => {\n      resolve();\n    };\n  var firstScriptTag = document.getElementsByTagName('script')[0];\n  firstScriptTag.parentNode.insertBefore(tag, firstScriptTag);\n});\n};\n\nif(typeof $3Dmolpromise === 'undefined') {\n$3Dmolpromise = null;\n  $3Dmolpromise = loadScriptAsync('http://3dmol.org/build/3Dmol.js');\n}\n\nvar viewer_16013459841652606 = null;\nvar warn = document.getElementById(\"3dmolwarning_16013459841652606\");\nif(warn) {\n    warn.parentNode.removeChild(warn);\n}\n$3Dmolpromise.then(function() {\nviewer_16013459841652606 = $3Dmol.createViewer($(\"#3dmolviewer_16013459841652606\"),{backgroundColor:\"white\"});\n$3Dmol.download(\"mmtf:1ycr\", viewer_16013459841652606, {}, function() {\n\tviewer_16013459841652606.setStyle({\"cartoon\": {\"color\": \"spectrum\"}});\nviewer_16013459841652606.render();\n})\n});\n</script>",
      "text/html": [
       "<div id=\"3dmolviewer_16013459841652606\"  style=\"position: relative; width: 640px; height: 480px\">\n",
       "        <p id=\"3dmolwarning_16013459841652606\" style=\"background-color:#ffcccc;color:black\">You appear to be running in JupyterLab (or JavaScript failed to load for some other reason).  You need to install the 3dmol extension: <br>\n",
       "        <tt>jupyter labextension install jupyterlab_3dmol</tt></p>\n",
       "        </div>\n",
       "<script>\n",
       "\n",
       "var loadScriptAsync = function(uri){\n",
       "  return new Promise((resolve, reject) => {\n",
       "    var tag = document.createElement('script');\n",
       "    tag.src = uri;\n",
       "    tag.async = true;\n",
       "    tag.onload = () => {\n",
       "      resolve();\n",
       "    };\n",
       "  var firstScriptTag = document.getElementsByTagName('script')[0];\n",
       "  firstScriptTag.parentNode.insertBefore(tag, firstScriptTag);\n",
       "});\n",
       "};\n",
       "\n",
       "if(typeof $3Dmolpromise === 'undefined') {\n",
       "$3Dmolpromise = null;\n",
       "  $3Dmolpromise = loadScriptAsync('http://3dmol.org/build/3Dmol.js');\n",
       "}\n",
       "\n",
       "var viewer_16013459841652606 = null;\n",
       "var warn = document.getElementById(\"3dmolwarning_16013459841652606\");\n",
       "if(warn) {\n",
       "    warn.parentNode.removeChild(warn);\n",
       "}\n",
       "$3Dmolpromise.then(function() {\n",
       "viewer_16013459841652606 = $3Dmol.createViewer($(\"#3dmolviewer_16013459841652606\"),{backgroundColor:\"white\"});\n",
       "$3Dmol.download(\"mmtf:1ycr\", viewer_16013459841652606, {}, function() {\n",
       "\tviewer_16013459841652606.setStyle({\"cartoon\": {\"color\": \"spectrum\"}});\n",
       "viewer_16013459841652606.render();\n",
       "})\n",
       "});\n",
       "</script>"
      ]
     },
     "metadata": {},
     "output_type": "display_data"
    },
    {
     "data": {
      "text/plain": [
       "<py3Dmol.view at 0x7ff5941073d0>"
      ]
     },
     "execution_count": 13,
     "metadata": {},
     "output_type": "execute_result"
    }
   ],
   "source": [
    "p = py3Dmol.view(query='mmtf:1ycr')\n",
    "p.setStyle({'cartoon': {'color':'spectrum'}})\n",
    "p"
   ]
  },
  {
   "cell_type": "code",
   "execution_count": 14,
   "metadata": {},
   "outputs": [],
   "source": [
    "xyz = '''4\n",
    "* (null), Energy   -1000.0000000\n",
    "N     0.000005    0.019779   -0.000003   -0.157114    0.000052   -0.012746\n",
    "H     0.931955   -0.364989    0.000003    1.507100   -0.601158   -0.004108\n",
    "H    -0.465975   -0.364992    0.807088    0.283368    0.257996   -0.583024\n",
    "H    -0.465979   -0.364991   -0.807088    0.392764    0.342436    0.764260\n",
    "'''"
   ]
  },
  {
   "cell_type": "code",
   "execution_count": 15,
   "metadata": {},
   "outputs": [
    {
     "data": {
      "application/3dmoljs_load.v0": "<div id=\"3dmolviewer_16013460065769029\"  style=\"position: relative; width: 400px; height: 400px\">\n        <p id=\"3dmolwarning_16013460065769029\" style=\"background-color:#ffcccc;color:black\">You appear to be running in JupyterLab (or JavaScript failed to load for some other reason).  You need to install the 3dmol extension: <br>\n        <tt>jupyter labextension install jupyterlab_3dmol</tt></p>\n        </div>\n<script>\n\nvar loadScriptAsync = function(uri){\n  return new Promise((resolve, reject) => {\n    var tag = document.createElement('script');\n    tag.src = uri;\n    tag.async = true;\n    tag.onload = () => {\n      resolve();\n    };\n  var firstScriptTag = document.getElementsByTagName('script')[0];\n  firstScriptTag.parentNode.insertBefore(tag, firstScriptTag);\n});\n};\n\nif(typeof $3Dmolpromise === 'undefined') {\n$3Dmolpromise = null;\n  $3Dmolpromise = loadScriptAsync('http://3dmol.org/build/3Dmol.js');\n}\n\nvar viewer_16013460065769029 = null;\nvar warn = document.getElementById(\"3dmolwarning_16013460065769029\");\nif(warn) {\n    warn.parentNode.removeChild(warn);\n}\n$3Dmolpromise.then(function() {\nviewer_16013460065769029 = $3Dmol.createViewer($(\"#3dmolviewer_16013460065769029\"),{backgroundColor:\"white\"});\n\tviewer_16013460065769029.addModel(\"4\\n* (null), Energy   -1000.0000000\\nN     0.000005    0.019779   -0.000003   -0.157114    0.000052   -0.012746\\nH     0.931955   -0.364989    0.000003    1.507100   -0.601158   -0.004108\\nH    -0.465975   -0.364992    0.807088    0.283368    0.257996   -0.583024\\nH    -0.465979   -0.364991   -0.807088    0.392764    0.342436    0.764260\\n\",\"xyz\",{\"vibrate\": {\"frames\": 10, \"amplitude\": 1}});\n\tviewer_16013460065769029.setStyle({\"stick\": {}});\n\tviewer_16013460065769029.setBackgroundColor(\"0xeeeeee\");\n\tviewer_16013460065769029.animate({\"loop\": \"backAndForth\"});\n\tviewer_16013460065769029.zoomTo();\nviewer_16013460065769029.render();\n});\n</script>",
      "text/html": [
       "<div id=\"3dmolviewer_16013460065769029\"  style=\"position: relative; width: 400px; height: 400px\">\n",
       "        <p id=\"3dmolwarning_16013460065769029\" style=\"background-color:#ffcccc;color:black\">You appear to be running in JupyterLab (or JavaScript failed to load for some other reason).  You need to install the 3dmol extension: <br>\n",
       "        <tt>jupyter labextension install jupyterlab_3dmol</tt></p>\n",
       "        </div>\n",
       "<script>\n",
       "\n",
       "var loadScriptAsync = function(uri){\n",
       "  return new Promise((resolve, reject) => {\n",
       "    var tag = document.createElement('script');\n",
       "    tag.src = uri;\n",
       "    tag.async = true;\n",
       "    tag.onload = () => {\n",
       "      resolve();\n",
       "    };\n",
       "  var firstScriptTag = document.getElementsByTagName('script')[0];\n",
       "  firstScriptTag.parentNode.insertBefore(tag, firstScriptTag);\n",
       "});\n",
       "};\n",
       "\n",
       "if(typeof $3Dmolpromise === 'undefined') {\n",
       "$3Dmolpromise = null;\n",
       "  $3Dmolpromise = loadScriptAsync('http://3dmol.org/build/3Dmol.js');\n",
       "}\n",
       "\n",
       "var viewer_16013460065769029 = null;\n",
       "var warn = document.getElementById(\"3dmolwarning_16013460065769029\");\n",
       "if(warn) {\n",
       "    warn.parentNode.removeChild(warn);\n",
       "}\n",
       "$3Dmolpromise.then(function() {\n",
       "viewer_16013460065769029 = $3Dmol.createViewer($(\"#3dmolviewer_16013460065769029\"),{backgroundColor:\"white\"});\n",
       "\tviewer_16013460065769029.addModel(\"4\\n* (null), Energy   -1000.0000000\\nN     0.000005    0.019779   -0.000003   -0.157114    0.000052   -0.012746\\nH     0.931955   -0.364989    0.000003    1.507100   -0.601158   -0.004108\\nH    -0.465975   -0.364992    0.807088    0.283368    0.257996   -0.583024\\nH    -0.465979   -0.364991   -0.807088    0.392764    0.342436    0.764260\\n\",\"xyz\",{\"vibrate\": {\"frames\": 10, \"amplitude\": 1}});\n",
       "\tviewer_16013460065769029.setStyle({\"stick\": {}});\n",
       "\tviewer_16013460065769029.setBackgroundColor(\"0xeeeeee\");\n",
       "\tviewer_16013460065769029.animate({\"loop\": \"backAndForth\"});\n",
       "\tviewer_16013460065769029.zoomTo();\n",
       "viewer_16013460065769029.render();\n",
       "});\n",
       "</script>"
      ]
     },
     "metadata": {},
     "output_type": "display_data"
    }
   ],
   "source": [
    "xyzview = py3Dmol.view(width=400,height=400)\n",
    "xyzview.addModel(xyz,'xyz',{'vibrate': {'frames':10,'amplitude':1}})\n",
    "xyzview.setStyle({'stick':{}})\n",
    "xyzview.setBackgroundColor('0xeeeeee')\n",
    "xyzview.animate({'loop': 'backAndForth'})\n",
    "xyzview.zoomTo()\n",
    "xyzview.show()"
   ]
  },
  {
   "cell_type": "markdown",
   "metadata": {},
   "source": [
    "Display local file."
   ]
  },
  {
   "cell_type": "code",
   "execution_count": 16,
   "metadata": {},
   "outputs": [
    {
     "data": {
      "application/3dmoljs_load.v0": "<div id=\"3dmolviewer_16013460082783787\"  style=\"position: relative; width: 640px; height: 480px\">\n        <p id=\"3dmolwarning_16013460082783787\" style=\"background-color:#ffcccc;color:black\">You appear to be running in JupyterLab (or JavaScript failed to load for some other reason).  You need to install the 3dmol extension: <br>\n        <tt>jupyter labextension install jupyterlab_3dmol</tt></p>\n        </div>\n<script>\n\nvar loadScriptAsync = function(uri){\n  return new Promise((resolve, reject) => {\n    var tag = document.createElement('script');\n    tag.src = uri;\n    tag.async = true;\n    tag.onload = () => {\n      resolve();\n    };\n  var firstScriptTag = document.getElementsByTagName('script')[0];\n  firstScriptTag.parentNode.insertBefore(tag, firstScriptTag);\n});\n};\n\nif(typeof $3Dmolpromise === 'undefined') {\n$3Dmolpromise = null;\n  $3Dmolpromise = loadScriptAsync('http://3dmol.org/build/3Dmol.js');\n}\n\nvar viewer_16013460082783787 = null;\nvar warn = document.getElementById(\"3dmolwarning_16013460082783787\");\nif(warn) {\n    warn.parentNode.removeChild(warn);\n}\n$3Dmolpromise.then(function() {\nviewer_16013460082783787 = $3Dmol.createViewer($(\"#3dmolviewer_16013460082783787\"),{backgroundColor:\"white\"});\n\tviewer_16013460082783787.addModel(\"\\n     RDKit          3D\\n\\n  6  6  0  0  0  0  0  0  0  0999 V2000\\n   -0.9517    0.7811   -0.6622 C   0  0  0  0  0  0  0  0  0  0  0  0\\n    0.2847    1.3329   -0.3121 C   0  0  0  0  0  0  0  0  0  0  0  0\\n    1.2365    0.5518    0.3512 C   0  0  0  0  0  0  0  0  0  0  0  0\\n    0.9517   -0.7811    0.6644 C   0  0  0  0  0  0  0  0  0  0  0  0\\n   -0.2847   -1.3329    0.3144 C   0  0  0  0  0  0  0  0  0  0  0  0\\n   -1.2365   -0.5518   -0.3489 C   0  0  0  0  0  0  0  0  0  0  0  0\\n  1  2  2  0\\n  2  3  1  0\\n  3  4  2  0\\n  4  5  1  0\\n  5  6  2  0\\n  6  1  1  0\\nM  END\\n$$$$\",\"sdf\");\n\tviewer_16013460082783787.setStyle({\"stick\": {}});\n\tviewer_16013460082783787.setStyle({\"model\": 0},{\"stick\": {\"colorscheme\": \"cyanCarbon\"}});\n\tviewer_16013460082783787.zoomTo();\nviewer_16013460082783787.render();\n});\n</script>",
      "text/html": [
       "<div id=\"3dmolviewer_16013460082783787\"  style=\"position: relative; width: 640px; height: 480px\">\n",
       "        <p id=\"3dmolwarning_16013460082783787\" style=\"background-color:#ffcccc;color:black\">You appear to be running in JupyterLab (or JavaScript failed to load for some other reason).  You need to install the 3dmol extension: <br>\n",
       "        <tt>jupyter labextension install jupyterlab_3dmol</tt></p>\n",
       "        </div>\n",
       "<script>\n",
       "\n",
       "var loadScriptAsync = function(uri){\n",
       "  return new Promise((resolve, reject) => {\n",
       "    var tag = document.createElement('script');\n",
       "    tag.src = uri;\n",
       "    tag.async = true;\n",
       "    tag.onload = () => {\n",
       "      resolve();\n",
       "    };\n",
       "  var firstScriptTag = document.getElementsByTagName('script')[0];\n",
       "  firstScriptTag.parentNode.insertBefore(tag, firstScriptTag);\n",
       "});\n",
       "};\n",
       "\n",
       "if(typeof $3Dmolpromise === 'undefined') {\n",
       "$3Dmolpromise = null;\n",
       "  $3Dmolpromise = loadScriptAsync('http://3dmol.org/build/3Dmol.js');\n",
       "}\n",
       "\n",
       "var viewer_16013460082783787 = null;\n",
       "var warn = document.getElementById(\"3dmolwarning_16013460082783787\");\n",
       "if(warn) {\n",
       "    warn.parentNode.removeChild(warn);\n",
       "}\n",
       "$3Dmolpromise.then(function() {\n",
       "viewer_16013460082783787 = $3Dmol.createViewer($(\"#3dmolviewer_16013460082783787\"),{backgroundColor:\"white\"});\n",
       "\tviewer_16013460082783787.addModel(\"\\n     RDKit          3D\\n\\n  6  6  0  0  0  0  0  0  0  0999 V2000\\n   -0.9517    0.7811   -0.6622 C   0  0  0  0  0  0  0  0  0  0  0  0\\n    0.2847    1.3329   -0.3121 C   0  0  0  0  0  0  0  0  0  0  0  0\\n    1.2365    0.5518    0.3512 C   0  0  0  0  0  0  0  0  0  0  0  0\\n    0.9517   -0.7811    0.6644 C   0  0  0  0  0  0  0  0  0  0  0  0\\n   -0.2847   -1.3329    0.3144 C   0  0  0  0  0  0  0  0  0  0  0  0\\n   -1.2365   -0.5518   -0.3489 C   0  0  0  0  0  0  0  0  0  0  0  0\\n  1  2  2  0\\n  2  3  1  0\\n  3  4  2  0\\n  4  5  1  0\\n  5  6  2  0\\n  6  1  1  0\\nM  END\\n$$$$\",\"sdf\");\n",
       "\tviewer_16013460082783787.setStyle({\"stick\": {}});\n",
       "\tviewer_16013460082783787.setStyle({\"model\": 0},{\"stick\": {\"colorscheme\": \"cyanCarbon\"}});\n",
       "\tviewer_16013460082783787.zoomTo();\n",
       "viewer_16013460082783787.render();\n",
       "});\n",
       "</script>"
      ]
     },
     "metadata": {},
     "output_type": "display_data"
    },
    {
     "data": {
      "text/plain": [
       "<py3Dmol.view at 0x7ff5940f27f0>"
      ]
     },
     "execution_count": 16,
     "metadata": {},
     "output_type": "execute_result"
    }
   ],
   "source": [
    "benz='''\n",
    "     RDKit          3D\n",
    "\n",
    "  6  6  0  0  0  0  0  0  0  0999 V2000\n",
    "   -0.9517    0.7811   -0.6622 C   0  0  0  0  0  0  0  0  0  0  0  0\n",
    "    0.2847    1.3329   -0.3121 C   0  0  0  0  0  0  0  0  0  0  0  0\n",
    "    1.2365    0.5518    0.3512 C   0  0  0  0  0  0  0  0  0  0  0  0\n",
    "    0.9517   -0.7811    0.6644 C   0  0  0  0  0  0  0  0  0  0  0  0\n",
    "   -0.2847   -1.3329    0.3144 C   0  0  0  0  0  0  0  0  0  0  0  0\n",
    "   -1.2365   -0.5518   -0.3489 C   0  0  0  0  0  0  0  0  0  0  0  0\n",
    "  1  2  2  0\n",
    "  2  3  1  0\n",
    "  3  4  2  0\n",
    "  4  5  1  0\n",
    "  5  6  2  0\n",
    "  6  1  1  0\n",
    "M  END\n",
    "$$$$'''\n",
    "view = py3Dmol.view()\n",
    "view.addModel(benz,'sdf')\n",
    "view.setStyle({'stick':{}})\n",
    "view.setStyle({'model':0},{'stick':{'colorscheme':'cyanCarbon'}})\n",
    "view.zoomTo()"
   ]
  },
  {
   "cell_type": "markdown",
   "metadata": {},
   "source": [
    "You can create a single canvas object with multiple viewers arrayed in a grid (3Dmol.createViewerGrid)."
   ]
  },
  {
   "cell_type": "code",
   "execution_count": 17,
   "metadata": {},
   "outputs": [
    {
     "data": {
      "application/3dmoljs_load.v0": "<div id=\"3dmolviewer_16013460097205517\"  style=\"position: relative; width: 640px; height: 480px\">\n        <p id=\"3dmolwarning_16013460097205517\" style=\"background-color:#ffcccc;color:black\">You appear to be running in JupyterLab (or JavaScript failed to load for some other reason).  You need to install the 3dmol extension: <br>\n        <tt>jupyter labextension install jupyterlab_3dmol</tt></p>\n        </div>\n<script>\n\nvar loadScriptAsync = function(uri){\n  return new Promise((resolve, reject) => {\n    var tag = document.createElement('script');\n    tag.src = uri;\n    tag.async = true;\n    tag.onload = () => {\n      resolve();\n    };\n  var firstScriptTag = document.getElementsByTagName('script')[0];\n  firstScriptTag.parentNode.insertBefore(tag, firstScriptTag);\n});\n};\n\nif(typeof $3Dmolpromise === 'undefined') {\n$3Dmolpromise = null;\n  $3Dmolpromise = loadScriptAsync('http://3dmol.org/build/3Dmol.js');\n}\n\nvar viewer_16013460097205517 = null;\nvar warn = document.getElementById(\"3dmolwarning_16013460097205517\");\nif(warn) {\n    warn.parentNode.removeChild(warn);\n}\n$3Dmolpromise.then(function() {\nvar viewergrid_16013460097205517 = null;\nviewergrid_16013460097205517 = $3Dmol.createViewerGrid($(\"#3dmolviewer_16013460097205517\"),{rows: 2, cols: 2, control_all: false},{backgroundColor:\"white\"});\nviewer_16013460097205517 = viewergrid_16013460097205517[0][0];\n$3Dmol.download(\"pdb:1dc9\", viewergrid_16013460097205517[0][0], {}, function() {\n$3Dmol.download(\"pdb:1dc9\", viewergrid_16013460097205517[0][1], {}, function() {\n$3Dmol.download(\"pdb:1dc9\", viewergrid_16013460097205517[1][0], {}, function() {\n$3Dmol.download(\"pdb:1dc9\", viewergrid_16013460097205517[1][1], {}, function() {\n\tviewergrid_16013460097205517[0][0].setViewStyle({\"style\": \"outline\", \"color\": \"black\", \"width\": 0.1});\n\tviewergrid_16013460097205517[0][1].setViewStyle({\"style\": \"outline\", \"color\": \"black\", \"width\": 0.1});\n\tviewergrid_16013460097205517[1][0].setViewStyle({\"style\": \"outline\", \"color\": \"black\", \"width\": 0.1});\n\tviewergrid_16013460097205517[1][1].setViewStyle({\"style\": \"outline\", \"color\": \"black\", \"width\": 0.1});\n\tviewergrid_16013460097205517[0][1].setStyle({\"cartoon\": {\"arrows\": true, \"tubes\": true, \"style\": \"oval\", \"color\": \"white\"}});\n\tviewergrid_16013460097205517[1][0].setStyle({\"stick\": {\"colorscheme\": \"greenCarbon\"}});\n\tviewergrid_16013460097205517[1][1].setStyle({\"cartoon\": {\"color\": \"spectrum\"}});\n\tviewergrid_16013460097205517[0][0].removeAllModels();\n\tviewergrid_16013460097205517[0][0].addModel(\"\\n     RDKit          3D\\n\\n  6  6  0  0  0  0  0  0  0  0999 V2000\\n   -0.9517    0.7811   -0.6622 C   0  0  0  0  0  0  0  0  0  0  0  0\\n    0.2847    1.3329   -0.3121 C   0  0  0  0  0  0  0  0  0  0  0  0\\n    1.2365    0.5518    0.3512 C   0  0  0  0  0  0  0  0  0  0  0  0\\n    0.9517   -0.7811    0.6644 C   0  0  0  0  0  0  0  0  0  0  0  0\\n   -0.2847   -1.3329    0.3144 C   0  0  0  0  0  0  0  0  0  0  0  0\\n   -1.2365   -0.5518   -0.3489 C   0  0  0  0  0  0  0  0  0  0  0  0\\n  1  2  2  0\\n  2  3  1  0\\n  3  4  2  0\\n  4  5  1  0\\n  5  6  2  0\\n  6  1  1  0\\nM  END\\n$$$$\",\"sdf\");\n\tviewergrid_16013460097205517[0][0].setStyle({\"stick\": {}});\n\tviewergrid_16013460097205517[0][0].zoomTo();\n\tviewergrid_16013460097205517[0][0].render();\n\tviewergrid_16013460097205517[0][1].render();\n\tviewergrid_16013460097205517[1][0].render();\n\tviewergrid_16013460097205517[1][1].render();\nviewergrid_16013460097205517[1][1].render();\nviewergrid_16013460097205517[1][0].render();\nviewergrid_16013460097205517[0][1].render();\nviewergrid_16013460097205517[0][0].render();\n})\n})\n})\n})\n});\n</script>",
      "text/html": [
       "<div id=\"3dmolviewer_16013460097205517\"  style=\"position: relative; width: 640px; height: 480px\">\n",
       "        <p id=\"3dmolwarning_16013460097205517\" style=\"background-color:#ffcccc;color:black\">You appear to be running in JupyterLab (or JavaScript failed to load for some other reason).  You need to install the 3dmol extension: <br>\n",
       "        <tt>jupyter labextension install jupyterlab_3dmol</tt></p>\n",
       "        </div>\n",
       "<script>\n",
       "\n",
       "var loadScriptAsync = function(uri){\n",
       "  return new Promise((resolve, reject) => {\n",
       "    var tag = document.createElement('script');\n",
       "    tag.src = uri;\n",
       "    tag.async = true;\n",
       "    tag.onload = () => {\n",
       "      resolve();\n",
       "    };\n",
       "  var firstScriptTag = document.getElementsByTagName('script')[0];\n",
       "  firstScriptTag.parentNode.insertBefore(tag, firstScriptTag);\n",
       "});\n",
       "};\n",
       "\n",
       "if(typeof $3Dmolpromise === 'undefined') {\n",
       "$3Dmolpromise = null;\n",
       "  $3Dmolpromise = loadScriptAsync('http://3dmol.org/build/3Dmol.js');\n",
       "}\n",
       "\n",
       "var viewer_16013460097205517 = null;\n",
       "var warn = document.getElementById(\"3dmolwarning_16013460097205517\");\n",
       "if(warn) {\n",
       "    warn.parentNode.removeChild(warn);\n",
       "}\n",
       "$3Dmolpromise.then(function() {\n",
       "var viewergrid_16013460097205517 = null;\n",
       "viewergrid_16013460097205517 = $3Dmol.createViewerGrid($(\"#3dmolviewer_16013460097205517\"),{rows: 2, cols: 2, control_all: false},{backgroundColor:\"white\"});\n",
       "viewer_16013460097205517 = viewergrid_16013460097205517[0][0];\n",
       "$3Dmol.download(\"pdb:1dc9\", viewergrid_16013460097205517[0][0], {}, function() {\n",
       "$3Dmol.download(\"pdb:1dc9\", viewergrid_16013460097205517[0][1], {}, function() {\n",
       "$3Dmol.download(\"pdb:1dc9\", viewergrid_16013460097205517[1][0], {}, function() {\n",
       "$3Dmol.download(\"pdb:1dc9\", viewergrid_16013460097205517[1][1], {}, function() {\n",
       "\tviewergrid_16013460097205517[0][0].setViewStyle({\"style\": \"outline\", \"color\": \"black\", \"width\": 0.1});\n",
       "\tviewergrid_16013460097205517[0][1].setViewStyle({\"style\": \"outline\", \"color\": \"black\", \"width\": 0.1});\n",
       "\tviewergrid_16013460097205517[1][0].setViewStyle({\"style\": \"outline\", \"color\": \"black\", \"width\": 0.1});\n",
       "\tviewergrid_16013460097205517[1][1].setViewStyle({\"style\": \"outline\", \"color\": \"black\", \"width\": 0.1});\n",
       "\tviewergrid_16013460097205517[0][1].setStyle({\"cartoon\": {\"arrows\": true, \"tubes\": true, \"style\": \"oval\", \"color\": \"white\"}});\n",
       "\tviewergrid_16013460097205517[1][0].setStyle({\"stick\": {\"colorscheme\": \"greenCarbon\"}});\n",
       "\tviewergrid_16013460097205517[1][1].setStyle({\"cartoon\": {\"color\": \"spectrum\"}});\n",
       "\tviewergrid_16013460097205517[0][0].removeAllModels();\n",
       "\tviewergrid_16013460097205517[0][0].addModel(\"\\n     RDKit          3D\\n\\n  6  6  0  0  0  0  0  0  0  0999 V2000\\n   -0.9517    0.7811   -0.6622 C   0  0  0  0  0  0  0  0  0  0  0  0\\n    0.2847    1.3329   -0.3121 C   0  0  0  0  0  0  0  0  0  0  0  0\\n    1.2365    0.5518    0.3512 C   0  0  0  0  0  0  0  0  0  0  0  0\\n    0.9517   -0.7811    0.6644 C   0  0  0  0  0  0  0  0  0  0  0  0\\n   -0.2847   -1.3329    0.3144 C   0  0  0  0  0  0  0  0  0  0  0  0\\n   -1.2365   -0.5518   -0.3489 C   0  0  0  0  0  0  0  0  0  0  0  0\\n  1  2  2  0\\n  2  3  1  0\\n  3  4  2  0\\n  4  5  1  0\\n  5  6  2  0\\n  6  1  1  0\\nM  END\\n$$$$\",\"sdf\");\n",
       "\tviewergrid_16013460097205517[0][0].setStyle({\"stick\": {}});\n",
       "\tviewergrid_16013460097205517[0][0].zoomTo();\n",
       "\tviewergrid_16013460097205517[0][0].render();\n",
       "\tviewergrid_16013460097205517[0][1].render();\n",
       "\tviewergrid_16013460097205517[1][0].render();\n",
       "\tviewergrid_16013460097205517[1][1].render();\n",
       "viewergrid_16013460097205517[1][1].render();\n",
       "viewergrid_16013460097205517[1][0].render();\n",
       "viewergrid_16013460097205517[0][1].render();\n",
       "viewergrid_16013460097205517[0][0].render();\n",
       "})\n",
       "})\n",
       "})\n",
       "})\n",
       "});\n",
       "</script>"
      ]
     },
     "metadata": {},
     "output_type": "display_data"
    },
    {
     "data": {
      "text/plain": [
       "<py3Dmol.view at 0x7ff5940b8730>"
      ]
     },
     "execution_count": 17,
     "metadata": {},
     "output_type": "execute_result"
    }
   ],
   "source": [
    "view = py3Dmol.view(query='pdb:1dc9',linked=False,viewergrid=(2,2))\n",
    "view.setViewStyle({'style':'outline','color':'black','width':0.1})\n",
    "view.setStyle({'cartoon':{'arrows':True, 'tubes':True, 'style':'oval', 'color':'white'}},viewer=(0,1))\n",
    "view.setStyle({'stick':{'colorscheme':'greenCarbon'}},viewer=(1,0))\n",
    "view.setStyle({'cartoon':{'color':'spectrum'}},viewer=(1,1))\n",
    "view.removeAllModels(viewer=(0,0))\n",
    "view.addModel(benz,'sdf',viewer=(0,0))\n",
    "view.setStyle({'stick':{}},viewer=(0,0))\n",
    "view.zoomTo(viewer=(0,0))\n",
    "view.render()"
   ]
  },
  {
   "cell_type": "code",
   "execution_count": 18,
   "metadata": {},
   "outputs": [
    {
     "data": {
      "application/3dmoljs_load.v0": "<div id=\"3dmolviewer_16013460107318227\"  style=\"position: relative; width: 640px; height: 480px\">\n        <p id=\"3dmolwarning_16013460107318227\" style=\"background-color:#ffcccc;color:black\">You appear to be running in JupyterLab (or JavaScript failed to load for some other reason).  You need to install the 3dmol extension: <br>\n        <tt>jupyter labextension install jupyterlab_3dmol</tt></p>\n        </div>\n<script>\n\nvar loadScriptAsync = function(uri){\n  return new Promise((resolve, reject) => {\n    var tag = document.createElement('script');\n    tag.src = uri;\n    tag.async = true;\n    tag.onload = () => {\n      resolve();\n    };\n  var firstScriptTag = document.getElementsByTagName('script')[0];\n  firstScriptTag.parentNode.insertBefore(tag, firstScriptTag);\n});\n};\n\nif(typeof $3Dmolpromise === 'undefined') {\n$3Dmolpromise = null;\n  $3Dmolpromise = loadScriptAsync('http://3dmol.org/build/3Dmol.js');\n}\n\nvar viewer_16013460107318227 = null;\nvar warn = document.getElementById(\"3dmolwarning_16013460107318227\");\nif(warn) {\n    warn.parentNode.removeChild(warn);\n}\n$3Dmolpromise.then(function() {\nviewer_16013460107318227 = $3Dmol.createViewer($(\"#3dmolviewer_16013460107318227\"),{backgroundColor:\"white\"});\n$3Dmol.download(\"pdb:1ycr\", viewer_16013460107318227, {}, function() {\n\tviewer_16013460107318227.setStyle({\"chain\": \"A\"},{\"cartoon\": {\"color\": \"spectrum\"}});\n\tviewer_16013460107318227.addSurface(1,{\"opacity\": 0.7, \"color\": \"white\"},{\"chain\": \"A\"});\n\tviewer_16013460107318227.setStyle({\"chain\": \"B\"},{\"stick\": {}});\nviewer_16013460107318227.render();\n})\n});\n</script>",
      "text/html": [
       "<div id=\"3dmolviewer_16013460107318227\"  style=\"position: relative; width: 640px; height: 480px\">\n",
       "        <p id=\"3dmolwarning_16013460107318227\" style=\"background-color:#ffcccc;color:black\">You appear to be running in JupyterLab (or JavaScript failed to load for some other reason).  You need to install the 3dmol extension: <br>\n",
       "        <tt>jupyter labextension install jupyterlab_3dmol</tt></p>\n",
       "        </div>\n",
       "<script>\n",
       "\n",
       "var loadScriptAsync = function(uri){\n",
       "  return new Promise((resolve, reject) => {\n",
       "    var tag = document.createElement('script');\n",
       "    tag.src = uri;\n",
       "    tag.async = true;\n",
       "    tag.onload = () => {\n",
       "      resolve();\n",
       "    };\n",
       "  var firstScriptTag = document.getElementsByTagName('script')[0];\n",
       "  firstScriptTag.parentNode.insertBefore(tag, firstScriptTag);\n",
       "});\n",
       "};\n",
       "\n",
       "if(typeof $3Dmolpromise === 'undefined') {\n",
       "$3Dmolpromise = null;\n",
       "  $3Dmolpromise = loadScriptAsync('http://3dmol.org/build/3Dmol.js');\n",
       "}\n",
       "\n",
       "var viewer_16013460107318227 = null;\n",
       "var warn = document.getElementById(\"3dmolwarning_16013460107318227\");\n",
       "if(warn) {\n",
       "    warn.parentNode.removeChild(warn);\n",
       "}\n",
       "$3Dmolpromise.then(function() {\n",
       "viewer_16013460107318227 = $3Dmol.createViewer($(\"#3dmolviewer_16013460107318227\"),{backgroundColor:\"white\"});\n",
       "$3Dmol.download(\"pdb:1ycr\", viewer_16013460107318227, {}, function() {\n",
       "\tviewer_16013460107318227.setStyle({\"chain\": \"A\"},{\"cartoon\": {\"color\": \"spectrum\"}});\n",
       "\tviewer_16013460107318227.addSurface(1,{\"opacity\": 0.7, \"color\": \"white\"},{\"chain\": \"A\"});\n",
       "\tviewer_16013460107318227.setStyle({\"chain\": \"B\"},{\"stick\": {}});\n",
       "viewer_16013460107318227.render();\n",
       "})\n",
       "});\n",
       "</script>"
      ]
     },
     "metadata": {},
     "output_type": "display_data"
    }
   ],
   "source": [
    "view = py3Dmol.view(query='pdb:1ycr')\n",
    "chA = {'chain':'A'}\n",
    "chB = {'chain':'B'}\n",
    "view.setStyle(chA,{'cartoon': {'color':'spectrum'}})\n",
    "view.addSurface(py3Dmol.VDW,{'opacity':0.7,'color':'white'}, chA)\n",
    "view.setStyle(chB,{'stick':{}})\n",
    "view.show()"
   ]
  },
  {
   "cell_type": "code",
   "execution_count": 19,
   "metadata": {},
   "outputs": [
    {
     "data": {
      "application/3dmoljs_load.v0": "<div id=\"3dmolviewer_16013460114452584\"  style=\"position: relative; width: 640px; height: 480px\">\n        <p id=\"3dmolwarning_16013460114452584\" style=\"background-color:#ffcccc;color:black\">You appear to be running in JupyterLab (or JavaScript failed to load for some other reason).  You need to install the 3dmol extension: <br>\n        <tt>jupyter labextension install jupyterlab_3dmol</tt></p>\n        </div>\n<script>\n\nvar loadScriptAsync = function(uri){\n  return new Promise((resolve, reject) => {\n    var tag = document.createElement('script');\n    tag.src = uri;\n    tag.async = true;\n    tag.onload = () => {\n      resolve();\n    };\n  var firstScriptTag = document.getElementsByTagName('script')[0];\n  firstScriptTag.parentNode.insertBefore(tag, firstScriptTag);\n});\n};\n\nif(typeof $3Dmolpromise === 'undefined') {\n$3Dmolpromise = null;\n  $3Dmolpromise = loadScriptAsync('http://3dmol.org/build/3Dmol.js');\n}\n\nvar viewer_16013460114452584 = null;\nvar warn = document.getElementById(\"3dmolwarning_16013460114452584\");\nif(warn) {\n    warn.parentNode.removeChild(warn);\n}\n$3Dmolpromise.then(function() {\nviewer_16013460114452584 = $3Dmol.createViewer($(\"#3dmolviewer_16013460114452584\"),{backgroundColor:\"white\"});\n$3Dmol.download(\"pdb:5ire\", viewer_16013460114452584, {\"doAssembly\": true}, function() {\n\tviewer_16013460114452584.setStyle({\"cartoon\": {\"color\": \"spectrum\"}});\nviewer_16013460114452584.render();\n})\n});\n</script>",
      "text/html": [
       "<div id=\"3dmolviewer_16013460114452584\"  style=\"position: relative; width: 640px; height: 480px\">\n",
       "        <p id=\"3dmolwarning_16013460114452584\" style=\"background-color:#ffcccc;color:black\">You appear to be running in JupyterLab (or JavaScript failed to load for some other reason).  You need to install the 3dmol extension: <br>\n",
       "        <tt>jupyter labextension install jupyterlab_3dmol</tt></p>\n",
       "        </div>\n",
       "<script>\n",
       "\n",
       "var loadScriptAsync = function(uri){\n",
       "  return new Promise((resolve, reject) => {\n",
       "    var tag = document.createElement('script');\n",
       "    tag.src = uri;\n",
       "    tag.async = true;\n",
       "    tag.onload = () => {\n",
       "      resolve();\n",
       "    };\n",
       "  var firstScriptTag = document.getElementsByTagName('script')[0];\n",
       "  firstScriptTag.parentNode.insertBefore(tag, firstScriptTag);\n",
       "});\n",
       "};\n",
       "\n",
       "if(typeof $3Dmolpromise === 'undefined') {\n",
       "$3Dmolpromise = null;\n",
       "  $3Dmolpromise = loadScriptAsync('http://3dmol.org/build/3Dmol.js');\n",
       "}\n",
       "\n",
       "var viewer_16013460114452584 = null;\n",
       "var warn = document.getElementById(\"3dmolwarning_16013460114452584\");\n",
       "if(warn) {\n",
       "    warn.parentNode.removeChild(warn);\n",
       "}\n",
       "$3Dmolpromise.then(function() {\n",
       "viewer_16013460114452584 = $3Dmol.createViewer($(\"#3dmolviewer_16013460114452584\"),{backgroundColor:\"white\"});\n",
       "$3Dmol.download(\"pdb:5ire\", viewer_16013460114452584, {\"doAssembly\": true}, function() {\n",
       "\tviewer_16013460114452584.setStyle({\"cartoon\": {\"color\": \"spectrum\"}});\n",
       "viewer_16013460114452584.render();\n",
       "})\n",
       "});\n",
       "</script>"
      ]
     },
     "metadata": {},
     "output_type": "display_data"
    }
   ],
   "source": [
    "view = py3Dmol.view(query='pdb:5ire',options={'doAssembly':True})\n",
    "view.setStyle({'cartoon':{'color':'spectrum'}})\n",
    "view.show()"
   ]
  },
  {
   "cell_type": "markdown",
   "metadata": {},
   "source": [
    "Color by temperature factors"
   ]
  },
  {
   "cell_type": "code",
   "execution_count": 20,
   "metadata": {},
   "outputs": [
    {
     "data": {
      "application/3dmoljs_load.v0": "<div id=\"3dmolviewer_16013460135380383\"  style=\"position: relative; width: 640px; height: 480px\">\n        <p id=\"3dmolwarning_16013460135380383\" style=\"background-color:#ffcccc;color:black\">You appear to be running in JupyterLab (or JavaScript failed to load for some other reason).  You need to install the 3dmol extension: <br>\n        <tt>jupyter labextension install jupyterlab_3dmol</tt></p>\n        </div>\n<script>\n\nvar loadScriptAsync = function(uri){\n  return new Promise((resolve, reject) => {\n    var tag = document.createElement('script');\n    tag.src = uri;\n    tag.async = true;\n    tag.onload = () => {\n      resolve();\n    };\n  var firstScriptTag = document.getElementsByTagName('script')[0];\n  firstScriptTag.parentNode.insertBefore(tag, firstScriptTag);\n});\n};\n\nif(typeof $3Dmolpromise === 'undefined') {\n$3Dmolpromise = null;\n  $3Dmolpromise = loadScriptAsync('http://3dmol.org/build/3Dmol.js');\n}\n\nvar viewer_16013460135380383 = null;\nvar warn = document.getElementById(\"3dmolwarning_16013460135380383\");\nif(warn) {\n    warn.parentNode.removeChild(warn);\n}\n$3Dmolpromise.then(function() {\nviewer_16013460135380383 = $3Dmol.createViewer($(\"#3dmolviewer_16013460135380383\"),{backgroundColor:\"white\"});\n$3Dmol.download(\"pdb:1ycr\", viewer_16013460135380383, {}, function() {\n\tviewer_16013460135380383.setStyle({\"cartoon\": {\"color\": \"white\"}});\n\tviewer_16013460135380383.addSurface(1,{\"opacity\": 0.7, \"colorscheme\": {\"prop\": \"b\", \"gradient\": \"sinebow\", \"min\": 0, \"max\": 70}});\nviewer_16013460135380383.render();\n})\n});\n</script>",
      "text/html": [
       "<div id=\"3dmolviewer_16013460135380383\"  style=\"position: relative; width: 640px; height: 480px\">\n",
       "        <p id=\"3dmolwarning_16013460135380383\" style=\"background-color:#ffcccc;color:black\">You appear to be running in JupyterLab (or JavaScript failed to load for some other reason).  You need to install the 3dmol extension: <br>\n",
       "        <tt>jupyter labextension install jupyterlab_3dmol</tt></p>\n",
       "        </div>\n",
       "<script>\n",
       "\n",
       "var loadScriptAsync = function(uri){\n",
       "  return new Promise((resolve, reject) => {\n",
       "    var tag = document.createElement('script');\n",
       "    tag.src = uri;\n",
       "    tag.async = true;\n",
       "    tag.onload = () => {\n",
       "      resolve();\n",
       "    };\n",
       "  var firstScriptTag = document.getElementsByTagName('script')[0];\n",
       "  firstScriptTag.parentNode.insertBefore(tag, firstScriptTag);\n",
       "});\n",
       "};\n",
       "\n",
       "if(typeof $3Dmolpromise === 'undefined') {\n",
       "$3Dmolpromise = null;\n",
       "  $3Dmolpromise = loadScriptAsync('http://3dmol.org/build/3Dmol.js');\n",
       "}\n",
       "\n",
       "var viewer_16013460135380383 = null;\n",
       "var warn = document.getElementById(\"3dmolwarning_16013460135380383\");\n",
       "if(warn) {\n",
       "    warn.parentNode.removeChild(warn);\n",
       "}\n",
       "$3Dmolpromise.then(function() {\n",
       "viewer_16013460135380383 = $3Dmol.createViewer($(\"#3dmolviewer_16013460135380383\"),{backgroundColor:\"white\"});\n",
       "$3Dmol.download(\"pdb:1ycr\", viewer_16013460135380383, {}, function() {\n",
       "\tviewer_16013460135380383.setStyle({\"cartoon\": {\"color\": \"white\"}});\n",
       "\tviewer_16013460135380383.addSurface(1,{\"opacity\": 0.7, \"colorscheme\": {\"prop\": \"b\", \"gradient\": \"sinebow\", \"min\": 0, \"max\": 70}});\n",
       "viewer_16013460135380383.render();\n",
       "})\n",
       "});\n",
       "</script>"
      ]
     },
     "metadata": {},
     "output_type": "display_data"
    },
    {
     "data": {
      "text/plain": [
       "<py3Dmol.view at 0x7ff586af7460>"
      ]
     },
     "execution_count": 20,
     "metadata": {},
     "output_type": "execute_result"
    }
   ],
   "source": [
    "view = py3Dmol.view(query='pdb:1ycr')\n",
    "view.setStyle({'cartoon': {'color':'white'}})\n",
    "view.addSurface(py3Dmol.VDW,{'opacity':0.7,'colorscheme':{'prop':'b','gradient':'sinebow','min':0,'max':70}})"
   ]
  },
  {
   "cell_type": "markdown",
   "metadata": {},
   "source": [
    "Generate an inline image of what is currently in the viewer (all white if the structure hasn't loaded yet)."
   ]
  },
  {
   "cell_type": "code",
   "execution_count": 21,
   "metadata": {},
   "outputs": [
    {
     "data": {
      "application/3dmoljs_load.v0": "<img id=\"img_16013460135380383\">\n            <script>\n            var png = viewer_16013460135380383.pngURI()\n            $('#img_16013460135380383').attr('src', png)\n            </script>",
      "text/html": [
       "<img id=\"img_16013460135380383\">\n",
       "            <script>\n",
       "            var png = viewer_16013460135380383.pngURI()\n",
       "            $('#img_16013460135380383').attr('src', png)\n",
       "            </script>"
      ]
     },
     "metadata": {},
     "output_type": "display_data"
    }
   ],
   "source": [
    "png = view.png()\n",
    "png"
   ]
  },
  {
   "cell_type": "code",
   "execution_count": 22,
   "metadata": {},
   "outputs": [
    {
     "data": {
      "application/3dmoljs_load.v0": "<div id=\"3dmolviewer_16013460167125344\"  style=\"position: relative; width: 640px; height: 480px\">\n        <p id=\"3dmolwarning_16013460167125344\" style=\"background-color:#ffcccc;color:black\">You appear to be running in JupyterLab (or JavaScript failed to load for some other reason).  You need to install the 3dmol extension: <br>\n        <tt>jupyter labextension install jupyterlab_3dmol</tt></p>\n        </div>\n<script>\n\nvar loadScriptAsync = function(uri){\n  return new Promise((resolve, reject) => {\n    var tag = document.createElement('script');\n    tag.src = uri;\n    tag.async = true;\n    tag.onload = () => {\n      resolve();\n    };\n  var firstScriptTag = document.getElementsByTagName('script')[0];\n  firstScriptTag.parentNode.insertBefore(tag, firstScriptTag);\n});\n};\n\nif(typeof $3Dmolpromise === 'undefined') {\n$3Dmolpromise = null;\n  $3Dmolpromise = loadScriptAsync('http://3dmol.org/build/3Dmol.js');\n}\n\nvar viewer_16013460167125344 = null;\nvar warn = document.getElementById(\"3dmolwarning_16013460167125344\");\nif(warn) {\n    warn.parentNode.removeChild(warn);\n}\n$3Dmolpromise.then(function() {\nviewer_16013460167125344 = $3Dmol.createViewer($(\"#3dmolviewer_16013460167125344\"),{backgroundColor:\"white\"});\n\tviewer_16013460167125344.addModel(\"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\",\"mmtf\");\n\tviewer_16013460167125344.addUnitCell();\n\tviewer_16013460167125344.zoomTo();\nviewer_16013460167125344.render();\n});\n</script>",
      "text/html": [
       "<div id=\"3dmolviewer_16013460167125344\"  style=\"position: relative; width: 640px; height: 480px\">\n",
       "        <p id=\"3dmolwarning_16013460167125344\" style=\"background-color:#ffcccc;color:black\">You appear to be running in JupyterLab (or JavaScript failed to load for some other reason).  You need to install the 3dmol extension: <br>\n",
       "        <tt>jupyter labextension install jupyterlab_3dmol</tt></p>\n",
       "        </div>\n",
       "<script>\n",
       "\n",
       "var loadScriptAsync = function(uri){\n",
       "  return new Promise((resolve, reject) => {\n",
       "    var tag = document.createElement('script');\n",
       "    tag.src = uri;\n",
       "    tag.async = true;\n",
       "    tag.onload = () => {\n",
       "      resolve();\n",
       "    };\n",
       "  var firstScriptTag = document.getElementsByTagName('script')[0];\n",
       "  firstScriptTag.parentNode.insertBefore(tag, firstScriptTag);\n",
       "});\n",
       "};\n",
       "\n",
       "if(typeof $3Dmolpromise === 'undefined') {\n",
       "$3Dmolpromise = null;\n",
       "  $3Dmolpromise = loadScriptAsync('http://3dmol.org/build/3Dmol.js');\n",
       "}\n",
       "\n",
       "var viewer_16013460167125344 = null;\n",
       "var warn = document.getElementById(\"3dmolwarning_16013460167125344\");\n",
       "if(warn) {\n",
       "    warn.parentNode.removeChild(warn);\n",
       "}\n",
       "$3Dmolpromise.then(function() {\n",
       "viewer_16013460167125344 = $3Dmol.createViewer($(\"#3dmolviewer_16013460167125344\"),{backgroundColor:\"white\"});\n",
       "\tviewer_16013460167125344.addModel(\"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\",\"mmtf\");\n",
       "\tviewer_16013460167125344.addUnitCell();\n",
       "\tviewer_16013460167125344.zoomTo();\n",
       "viewer_16013460167125344.render();\n",
       "});\n",
       "</script>"
      ]
     },
     "metadata": {},
     "output_type": "display_data"
    },
    {
     "data": {
      "text/plain": [
       "<py3Dmol.view at 0x7ff586b309d0>"
      ]
     },
     "execution_count": 22,
     "metadata": {},
     "output_type": "execute_result"
    }
   ],
   "source": [
    "import requests, base64\n",
    "r = requests.get('https://mmtf.rcsb.org/v1.0/full/5lgo')\n",
    "view = py3Dmol.view()\n",
    "view.addModel(base64.b64encode(r.content).decode(),'mmtf')\n",
    "view.addUnitCell()\n",
    "view.zoomTo()"
   ]
  },
  {
   "cell_type": "code",
   "execution_count": null,
   "metadata": {},
   "outputs": [],
   "source": []
  }
 ],
 "metadata": {
  "kernelspec": {
   "display_name": "Python 3",
   "language": "python",
   "name": "python3"
  },
  "language_info": {
   "codemirror_mode": {
    "name": "ipython",
    "version": 3
   },
   "file_extension": ".py",
   "mimetype": "text/x-python",
   "name": "python",
   "nbconvert_exporter": "python",
   "pygments_lexer": "ipython3",
   "version": "3.8.2"
  },
  "widgets": {
   "state": {},
   "version": "1.1.1"
  }
 },
 "nbformat": 4,
 "nbformat_minor": 2
}
